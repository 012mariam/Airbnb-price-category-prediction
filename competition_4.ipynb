{
  "cells": [
    {
      "cell_type": "markdown",
      "metadata": {
        "id": "Rb_s8OZSABTk"
      },
      "source": [
        "### **✔️ Answer the questions below (briefly):**"
      ]
    },
    {
      "cell_type": "markdown",
      "metadata": {
        "id": "tdGEFX_mAGWt"
      },
      "source": [
        "## **🌈Is fully-connected model a good one for sequential data? Why? How about for image data? Is it good? Why?**"
      ]
    },
    {
      "cell_type": "markdown",
      "metadata": {
        "id": "DridpRztAGZm"
      },
      "source": [
        "No it isn’t \n",
        "* A **fully connected** layer each neuron is connected to every neuron in the previous layer, and each connection has it's own weight. This is a totally general purpose connection pattern and makes no assumptions about the features in the data. It's also very expensive in terms of memory (weights) and computation (connections).\n",
        "As Recurrent neural network works best for sequential data.\n",
        "* An **about for image data**\n",
        "No, Becuase The number of parameters in a neural network grows rapidly with the increase in the number of layers. This can make training for a model computationally heavy. Tuning so many of parameters can be a very huge task face several problems.The time taken for tuning these parameters is diminished by CNNs. So, Convolutional neural network works best for image data.\n",
        "* A **CNNs** \n",
        "are trained to identify and extract the best features from the images for the problem at hand. CNNs are very effective in reducing the number of parameters without losing on the quality of models.\n",
        "."
      ]
    },
    {
      "cell_type": "markdown",
      "metadata": {
        "id": "3rZqaOAZCvO4"
      },
      "source": [
        "## **🌈What is gradient vanishing and gradient explosion, and how GRU/LSTM tries to mitigate this problem?**"
      ]
    },
    {
      "cell_type": "markdown",
      "metadata": {
        "id": "0UweVEXqCjSl"
      },
      "source": [
        "* **Vanishing gradient:** is a common problem in deep learning, which is not properly designed. Vanishing gradient problem arises if the gradient tends to get smaller as we are conducting backpropagation. It implies that neurons are learning so slow that optimization grind to a halt. The network will just stop learning and freeze. \n",
        "* **Exploding gradient:** occurs when small changes in the backpropagation result in huge updates in the weights during optimization process. The network will start to generally overpredict.\n",
        "* **How GRU/LSTM tries to mitigate this problem**\n",
        "LSTMs solve the vanishing gradient problem using a unique additive gradient structure that includes direct access to the forget gate’s activations, enabling the network to encourage desired behaviour from the error gradient using frequent gates update on every time step of the learning process.\n",
        "the backpropagated gradient neither vanishes or explodes when passing through, but remains constant.\n",
        "both GRUs and LSTMs help solve the problem that was first encountered when RNNs were used, namely exploding and vanishing gradients. Because of the recurrent application of the same parameters, it was often the case that gradients would quickly go to zero (not helpful) or to infinity (also not helpful), meaning that backpropagation was difficult or even impossible as the recurrent network was unrolled. This problem was addressed with GRU and LSTM because these tend to keep inputs and outputs from the cell in tractable value ranges. This is due both to the form of the activation function they use and to the way that the update gate can learn to pass information through or not, leading to reasonable gradient values being much more likely than in a vanilla RNN cell, which has no notion of a gate.\n"
      ]
    },
    {
      "cell_type": "markdown",
      "metadata": {
        "id": "ZgYSOgg4EUha"
      },
      "source": [
        "### **🌈What is multi-objective/multi-task learning? What is multi-modality learning? How do you use them in this assignment?**"
      ]
    },
    {
      "cell_type": "markdown",
      "metadata": {
        "id": "vPYz98dgCjVl"
      },
      "source": [
        "**What is multi-task learning?**\n",
        "* it aims to solve multiple different tasks at the same time, by taking advantage of the similarities between different tasks. This can improve the learning efficiency and also act as a regularizer.\n",
        "* Such approaches offer advantages like improved data efficiency, reduced overfitting through shared representations, and fast learning by leveraging auxiliary information. \n",
        "* **What is multi-modality learning?**\n",
        "The world surrounding us involves multiple modalities – we see objects, hear sounds, feel texture, smell odors, and so on. In general terms, a modality refers to the way in which something happens or is experienced. Multi-Modality learning leverages the information from different source of information to make informed predictions.\n",
        "Multimodal learning helps to understand and analyze better when various senses are engaged in the processing of information.\n",
        "multiple types of modalities are image, video, text, audio, body gestures, facial expressions, and physiological signals.\n",
        "* **How do you use them in this assignment?**\n",
        "I use the multi-task and multi-modality learning in this notebook.\n",
        "multi-modality learning (inputs):\n",
        "Summary of areas (text).\n",
        "Image of areas (image).\n",
        "multi-tasks learning (outputs):\n",
        "Different areas Types (text).\n",
        "Price of areas (number)"
      ]
    },
    {
      "cell_type": "markdown",
      "metadata": {
        "id": "QaGKAZx3CbHv"
      },
      "source": [
        "### **🌈What is the difference among xgboost, lightgbm and catboost**"
      ]
    },
    {
      "cell_type": "markdown",
      "metadata": {
        "id": "Dd7MREWsFvSD"
      },
      "source": [
        "* **LightGBM** can sometimes outperform XGBoost, but not always. However, LightGBM is about 7 times faster than XGBoost!\n",
        "* **XGBoost** has slightly outperformed CatBoost. However, CatBoost is about 3.5 times faster than XGBoost!\n",
        "* **LightGBM** has slightly outperformed CatBoost and it is about 2 times faster than CatBoost!\n",
        "* **When** we consider execution time, LightGBM wins hands down! It is 7 times faster than XGBoost and 2 times faster than CatBoost.\n",
        "* **When** we consider performance, XGBoost is slightly better than the other two.\n",
        "* **When** we consider both performance and execution time together, LightGBM is the best option.\n",
        "The dataset has categorical features, consider using LightGBM or CatBoost. Both can handle categorical features that are not already encoded. CatBoost is the best option to deal with categorical features. XGBoost cannot handle categorical features by itself, it only accepts numerical values.\n",
        "* **XGBoost** has some more generalization capabilities than other boosting techniques. In performance-wise, it is good.\n",
        "* **In XGBoost**, trees grow depth-wise while in LightGBM, trees grow leaf-wise."
      ]
    },
    {
      "cell_type": "markdown",
      "metadata": {
        "id": "E34xRe6JF_D7"
      },
      "source": [
        "### **Problem Formulation**"
      ]
    },
    {
      "cell_type": "markdown",
      "source": [
        "### Define the problem\n",
        "One of the biggest problems when people prepare to post a new listing on airbnb is, how much should one ask for? Of course the most intuitive way is to check how other similar postings price their apartment/house. we are going to predict the listing price based on the listing characteristic\n",
        "\n",
        "### What is the input?\n",
        "The dataset contains listings of different areas in Montreal during 2019.\n",
        "The inputs data:\n",
        "Summary: is text. it details and describe the different areas.\n",
        "Image: is image about the different areas.\n",
        "### What is the output?\n",
        "The outputs data:\n",
        "Type: is a text.\n",
        "Price: we define three categories: beginner, plus, premium based on the created listing. Respectively we use 0, 1, 2 to denote these three categories.\n",
        "What data mining function is required?\n",
        "In this case, it will be Multi Classification methods for such models.\n",
        "\n",
        "### What could be the challenges?\n",
        "The data contains different languages.\n",
        "The data contains various forms of words.\n",
        "we are going to predict the listing price based on the listing characteristics(Multi-modality).\n",
        "### What is the impact?\n",
        "A pricing range to the new host rather than a fix price. it will be very useful to predict the price and the type of areas by details and image of area.\n",
        "\n",
        "## What is an ideal solution?\n",
        "According to my subsequent attempts, Convolutional Layer with Embedding layer, Multi-modality and Multi-task. is the best approach because it provides me the highest kaggle score."
      ],
      "metadata": {
        "id": "SsqlV1xA7c-9"
      }
    },
    {
      "cell_type": "markdown",
      "source": [
        "### What is the experimental protocol used and how was it carried out?\n",
        "I will split the data to use Holdout method is split the training dataset to training data and validation data\n",
        "\n",
        "### How did we tune hyper-parameters in the template?\n",
        "In the template, I will tune hyperparameters by changing the values of:\n",
        "\n",
        "Epochs\n",
        "batch_size\n",
        "patience in Early Stopping\n",
        "loss of weight to type\n",
        "loss of weight to price\n",
        "number of kernal channel\n",
        "number of filter\n",
        "number of Strides\n",
        "number of padding\n",
        "Activation function\n",
        "values of regularizer(l1, l2)\n",
        "resize of image\n",
        "Rate of dropout\n",
        "Units of LSTM\n",
        "Units of GRU\n",
        "### What is the search space and what is the criteria to determine good/bad hyper-parameters?\n",
        "it is If we are solving a problem, we are usually looking for some solution which will be the best among others. The space of all feasible solutions (the set of solutions among which the desired solution resides). Each point in the search space represents one possible solution. Each possible solution can be \"marked\" by its value (or fitness) for the problem.\n",
        "by using NAS. it is tune hyperparameters in neural network."
      ],
      "metadata": {
        "id": "9-3YotM48Cf3"
      }
    },
    {
      "cell_type": "code",
      "execution_count": 1,
      "metadata": {
        "colab": {
          "base_uri": "https://localhost:8080/"
        },
        "id": "_yvAVwRzbbPr",
        "outputId": "61c388fc-f949-4464-d2c6-a07a220c6989"
      },
      "outputs": [
        {
          "output_type": "stream",
          "name": "stdout",
          "text": [
            "Looking in indexes: https://pypi.org/simple, https://us-python.pkg.dev/colab-wheels/public/simple/\n",
            "Collecting langdetect\n",
            "  Downloading langdetect-1.0.9.tar.gz (981 kB)\n",
            "\u001b[?25l     \u001b[90m━━━━━━━━━━━━━━━━━━━━━━━━━━━━━━━━━━━━━━━━\u001b[0m \u001b[32m0.0/981.5 kB\u001b[0m \u001b[31m?\u001b[0m eta \u001b[36m-:--:--\u001b[0m\r\u001b[2K     \u001b[91m━━━━━━━━━━━━━\u001b[0m\u001b[90m╺\u001b[0m\u001b[90m━━━━━━━━━━━━━━━━━━━━━━━━━\u001b[0m \u001b[32m337.9/981.5 kB\u001b[0m \u001b[31m9.9 MB/s\u001b[0m eta \u001b[36m0:00:01\u001b[0m\r\u001b[2K     \u001b[90m━━━━━━━━━━━━━━━━━━━━━━━━━━━━━━━━━━━━━━\u001b[0m \u001b[32m981.5/981.5 kB\u001b[0m \u001b[31m17.1 MB/s\u001b[0m eta \u001b[36m0:00:00\u001b[0m\n",
            "\u001b[?25h  Preparing metadata (setup.py) ... \u001b[?25l\u001b[?25hdone\n",
            "Requirement already satisfied: six in /usr/local/lib/python3.9/dist-packages (from langdetect) (1.16.0)\n",
            "Building wheels for collected packages: langdetect\n",
            "  Building wheel for langdetect (setup.py) ... \u001b[?25l\u001b[?25hdone\n",
            "  Created wheel for langdetect: filename=langdetect-1.0.9-py3-none-any.whl size=993243 sha256=8b88b1fb86c5a09412143840ebd3f92bdf6fded2b5705032848792d30141b6f4\n",
            "  Stored in directory: /root/.cache/pip/wheels/d1/c1/d9/7e068de779d863bc8f8fc9467d85e25cfe47fa5051fff1a1bb\n",
            "Successfully built langdetect\n",
            "Installing collected packages: langdetect\n",
            "Successfully installed langdetect-1.0.9\n",
            "Looking in indexes: https://pypi.org/simple, https://us-python.pkg.dev/colab-wheels/public/simple/\n",
            "Collecting googletrans==3.1.0a\n",
            "  Downloading googletrans-3.1.0a0.tar.gz (19 kB)\n",
            "  Preparing metadata (setup.py) ... \u001b[?25l\u001b[?25hdone\n",
            "Collecting httpx==0.13.3\n",
            "  Downloading httpx-0.13.3-py3-none-any.whl (55 kB)\n",
            "\u001b[2K     \u001b[90m━━━━━━━━━━━━━━━━━━━━━━━━━━━━━━━━━━━━━━━━\u001b[0m \u001b[32m55.1/55.1 kB\u001b[0m \u001b[31m3.7 MB/s\u001b[0m eta \u001b[36m0:00:00\u001b[0m\n",
            "\u001b[?25hCollecting hstspreload\n",
            "  Downloading hstspreload-2023.1.1-py3-none-any.whl (1.5 MB)\n",
            "\u001b[2K     \u001b[90m━━━━━━━━━━━━━━━━━━━━━━━━━━━━━━━━━━━━━━━━\u001b[0m \u001b[32m1.5/1.5 MB\u001b[0m \u001b[31m27.8 MB/s\u001b[0m eta \u001b[36m0:00:00\u001b[0m\n",
            "\u001b[?25hCollecting rfc3986<2,>=1.3\n",
            "  Downloading rfc3986-1.5.0-py2.py3-none-any.whl (31 kB)\n",
            "Requirement already satisfied: certifi in /usr/local/lib/python3.9/dist-packages (from httpx==0.13.3->googletrans==3.1.0a) (2022.12.7)\n",
            "Collecting chardet==3.*\n",
            "  Downloading chardet-3.0.4-py2.py3-none-any.whl (133 kB)\n",
            "\u001b[2K     \u001b[90m━━━━━━━━━━━━━━━━━━━━━━━━━━━━━━━━━━━━━━\u001b[0m \u001b[32m133.4/133.4 kB\u001b[0m \u001b[31m20.9 MB/s\u001b[0m eta \u001b[36m0:00:00\u001b[0m\n",
            "\u001b[?25hCollecting httpcore==0.9.*\n",
            "  Downloading httpcore-0.9.1-py3-none-any.whl (42 kB)\n",
            "\u001b[2K     \u001b[90m━━━━━━━━━━━━━━━━━━━━━━━━━━━━━━━━━━━━━━━━\u001b[0m \u001b[32m42.6/42.6 kB\u001b[0m \u001b[31m5.8 MB/s\u001b[0m eta \u001b[36m0:00:00\u001b[0m\n",
            "\u001b[?25hCollecting idna==2.*\n",
            "  Downloading idna-2.10-py2.py3-none-any.whl (58 kB)\n",
            "\u001b[2K     \u001b[90m━━━━━━━━━━━━━━━━━━━━━━━━━━━━━━━━━━━━━━━━\u001b[0m \u001b[32m58.8/58.8 kB\u001b[0m \u001b[31m9.9 MB/s\u001b[0m eta \u001b[36m0:00:00\u001b[0m\n",
            "\u001b[?25hRequirement already satisfied: sniffio in /usr/local/lib/python3.9/dist-packages (from httpx==0.13.3->googletrans==3.1.0a) (1.3.0)\n",
            "Collecting h2==3.*\n",
            "  Downloading h2-3.2.0-py2.py3-none-any.whl (65 kB)\n",
            "\u001b[2K     \u001b[90m━━━━━━━━━━━━━━━━━━━━━━━━━━━━━━━━━━━━━━━━\u001b[0m \u001b[32m65.0/65.0 kB\u001b[0m \u001b[31m10.6 MB/s\u001b[0m eta \u001b[36m0:00:00\u001b[0m\n",
            "\u001b[?25hCollecting h11<0.10,>=0.8\n",
            "  Downloading h11-0.9.0-py2.py3-none-any.whl (53 kB)\n",
            "\u001b[2K     \u001b[90m━━━━━━━━━━━━━━━━━━━━━━━━━━━━━━━━━━━━━━━━\u001b[0m \u001b[32m53.6/53.6 kB\u001b[0m \u001b[31m8.5 MB/s\u001b[0m eta \u001b[36m0:00:00\u001b[0m\n",
            "\u001b[?25hCollecting hpack<4,>=3.0\n",
            "  Downloading hpack-3.0.0-py2.py3-none-any.whl (38 kB)\n",
            "Collecting hyperframe<6,>=5.2.0\n",
            "  Downloading hyperframe-5.2.0-py2.py3-none-any.whl (12 kB)\n",
            "Building wheels for collected packages: googletrans\n",
            "  Building wheel for googletrans (setup.py) ... \u001b[?25l\u001b[?25hdone\n",
            "  Created wheel for googletrans: filename=googletrans-3.1.0a0-py3-none-any.whl size=16368 sha256=0d6dff232b58ef720e550750dddedce054a9f83661c18c26ce164fba998fdbc9\n",
            "  Stored in directory: /root/.cache/pip/wheels/ae/e1/6c/5137bc3f35aa130deea71575e165cc4f4f0680a88f3d90a636\n",
            "Successfully built googletrans\n",
            "Installing collected packages: rfc3986, hyperframe, hpack, h11, chardet, idna, hstspreload, h2, httpcore, httpx, googletrans\n",
            "  Attempting uninstall: chardet\n",
            "    Found existing installation: chardet 4.0.0\n",
            "    Uninstalling chardet-4.0.0:\n",
            "      Successfully uninstalled chardet-4.0.0\n",
            "  Attempting uninstall: idna\n",
            "    Found existing installation: idna 3.4\n",
            "    Uninstalling idna-3.4:\n",
            "      Successfully uninstalled idna-3.4\n",
            "Successfully installed chardet-3.0.4 googletrans-3.1.0a0 h11-0.9.0 h2-3.2.0 hpack-3.0.0 hstspreload-2023.1.1 httpcore-0.9.1 httpx-0.13.3 hyperframe-5.2.0 idna-2.10 rfc3986-1.5.0\n"
          ]
        }
      ],
      "source": [
        "#install detect text language package\n",
        "!pip install langdetect\n",
        "#install google translate package\n",
        "!pip install googletrans==3.1.0a\n",
        "     "
      ]
    },
    {
      "cell_type": "markdown",
      "source": [
        "### **Importng Libraries**"
      ],
      "metadata": {
        "id": "fdp3BEIt8dRb"
      }
    },
    {
      "cell_type": "code",
      "execution_count": 2,
      "metadata": {
        "id": "JmCklgK8IFqG"
      },
      "outputs": [],
      "source": [
        "# For uploading and accessing the data\n",
        "import numpy as np\n",
        "import pandas as pd\n",
        "\n",
        "import re   # used to work with Regular Expressions\n",
        "import pickle    # for serializing and de-serializing a Python object structure\n",
        "import nltk    # provides a set of diverse algorithms for NLP\n",
        "from nltk.stem.snowball import SnowballStemmer    # Stemming maps different forms of the same word to a common\n",
        "from nltk.tokenize import word_tokenize     # used to find the words and punctuation in a string\n",
        "from nltk.corpus import stopwords   # does not add much meaning to a sentence.\n",
        "\n",
        "\n",
        "\n",
        "# for Data Visualization\n",
        "import matplotlib.pyplot as plt\n",
        "\n",
        "# provides the python interpreter with image editing capabilities.\n",
        "from PIL import Image\n",
        "# used for creating Progress Meters or Progress Bars. \n",
        "from tqdm.notebook import tqdm\n",
        "\n",
        "# import imageio as iio\n",
        "\n",
        "\n",
        "# preprocess text data\n",
        "from tensorflow.keras.preprocessing.text import Tokenizer\n",
        "# used to ensure that all sequences in a list have the same length.\n",
        "from tensorflow.keras.preprocessing.sequence import pad_sequences\n",
        "\n",
        "\n",
        "# detect the language of text\n",
        "from langdetect import detect\n",
        "\n",
        "# For translate the values\n",
        "from googletrans import Translator\n",
        "\n",
        "import tensorflow as tf\n",
        "from tensorflow import keras\n",
        "from tensorflow.keras.layers import Conv2D, Flatten, Dense, MaxPool2D, LSTM, BatchNormalization, MaxPooling2D, Dropout, Bidirectional, SpatialDropout2D\n",
        "from tensorflow.keras.optimizers import Adam, Nadam\n",
        "from tensorflow.keras import regularizers\n",
        "\n",
        "\n",
        "\n",
        "# import warnings to prevent show warnings\n",
        "import warnings\n",
        "warnings.filterwarnings(\"ignore\")"
      ]
    },
    {
      "cell_type": "markdown",
      "source": [
        "### **Iam using these functions **"
      ],
      "metadata": {
        "id": "EptqsWzs8p7A"
      }
    },
    {
      "cell_type": "code",
      "execution_count": 3,
      "metadata": {
        "id": "dKU2GNM7bUbs"
      },
      "outputs": [],
      "source": [
        "# Make Function to detect the language of text\n",
        "def detect_langauge_text(text):\n",
        "   try:\n",
        "       return detect(text)\n",
        "   except:\n",
        "       return 'unknown'"
      ]
    },
    {
      "cell_type": "code",
      "execution_count": 4,
      "metadata": {
        "colab": {
          "base_uri": "https://localhost:8080/"
        },
        "id": "_OAsUgksb5IU",
        "outputId": "23cf48ed-7867-448f-dba5-c192fb1e1f73"
      },
      "outputs": [
        {
          "output_type": "stream",
          "name": "stderr",
          "text": [
            "[nltk_data] Downloading package punkt to /root/nltk_data...\n",
            "[nltk_data]   Unzipping tokenizers/punkt.zip.\n",
            "[nltk_data] Downloading package stopwords to /root/nltk_data...\n",
            "[nltk_data]   Unzipping corpora/stopwords.zip.\n"
          ]
        }
      ],
      "source": [
        "# required package for tokenization.\n",
        "nltk.download('punkt') \n",
        "nltk.download('stopwords')\n",
        "\n",
        "# for stemming algorithm\n",
        "stemmer = SnowballStemmer(\"english\")\n",
        "stop_words = set(stopwords.words(\"english\"))\n",
        "\n",
        "\n",
        "# Make Function to clean text\n",
        "def clean_text(text, for_embedding=False):\n",
        "    \"\"\" steps:\n",
        "        - remove any html tags (< /br> often found)\n",
        "        - Keep only ASCII + European Chars and whitespace, no digits\n",
        "        - remove single letter chars\n",
        "        - convert all whitespaces (tabs etc.) to single wspace\n",
        "        if not for embedding (but e.g. tdf-idf):\n",
        "        - all lowercase\n",
        "        - remove stopwords, punctuation and stemm\n",
        "        - return the clean text\n",
        "    \"\"\"\n",
        "    re_wspace = re.compile(r\"\\s+\", re.IGNORECASE)\n",
        "    re_tags = re.compile(r\"<[^>]+>\")\n",
        "    re_ASII = re.compile(r\"[^A-Za-zÀ-ž ]\", re.IGNORECASE)\n",
        "    re_single_char = re.compile(r\"\\b[A-Za-zÀ-ž]\\b\", re.IGNORECASE)\n",
        "    if for_embedding:\n",
        "        # Keep punctuation\n",
        "        re_ASII = re.compile(r\"[^A-Za-zÀ-ž,.!? ]\", re.IGNORECASE)\n",
        "        re_single_char = re.compile(r\"\\b[A-Za-zÀ-ž,.!?]\\b\", re.IGNORECASE)\n",
        "\n",
        "    text = re.sub(re_tags, \" \", text)\n",
        "    text = re.sub(re_ASII, \" \", text)\n",
        "    text = re.sub(re_single_char, \" \", text)\n",
        "    text = re.sub(re_wspace, \" \", text)\n",
        "\n",
        "    word_tokens = word_tokenize(text)\n",
        "    words_tokens_lower = [word.lower() for word in word_tokens]\n",
        "\n",
        "    if for_embedding:\n",
        "        # no stemming, lowering and punctuation / stop words removal\n",
        "        words_filtered = word_tokens\n",
        "    else:\n",
        "        words_filtered = [\n",
        "            stemmer.stem(word) for word in words_tokens_lower if word not in stop_words\n",
        "        ]\n",
        "\n",
        "    text_clean = \" \".join(words_filtered)\n",
        "    return text_clean"
      ]
    },
    {
      "cell_type": "code",
      "execution_count": 5,
      "metadata": {
        "id": "u2hlRCOMb8mL"
      },
      "outputs": [],
      "source": [
        "# Create function to preprocess image data\n",
        "def load_image(file):\n",
        "    try:\n",
        "        image = Image.open(\n",
        "            file\n",
        "        ).convert('LA').resize((64, 64))\n",
        "        arr = np.array(image)\n",
        "    except:\n",
        "        arr = np.zeros((64, 64, 2))\n",
        "    return arr"
      ]
    },
    {
      "cell_type": "code",
      "execution_count": 6,
      "metadata": {
        "id": "troQvgyCb_17"
      },
      "outputs": [],
      "source": [
        "# Function to preprocess to list of text\n",
        "def _preprocess(list_of_text):\n",
        "    return pad_sequences(\n",
        "        tokenizer.texts_to_sequences(list_of_text),\n",
        "        maxlen= max_len,\n",
        "        padding='post',\n",
        "    )"
      ]
    },
    {
      "cell_type": "code",
      "execution_count": 7,
      "metadata": {
        "id": "NAXbVzmXcBu7"
      },
      "outputs": [],
      "source": [
        "# dispay the result of the model \n",
        "def plot_graphs(history, string):\n",
        "  plt.plot(history.history[string])\n",
        "  plt.plot(history.history['val_'+string])\n",
        "  plt.xlabel(\"Epochs\")\n",
        "  plt.ylabel(string)\n",
        "  plt.legend([string, 'val_'+string])\n",
        "  plt.show()\n",
        "     "
      ]
    },
    {
      "cell_type": "code",
      "execution_count": 8,
      "metadata": {
        "id": "q9enpqvkcEib"
      },
      "outputs": [],
      "source": [
        "# Make a Function for predict the testing data and save it in the csv file\n",
        "def predict_save_csv(search_model, classifier_name):\n",
        "    \n",
        "    # we can do prediction on training set\n",
        "    y_predict = search_model.predict(\n",
        "        {\n",
        "            'summary': x_test_text,\n",
        "            'image': x_test_image\n",
        "        }\n",
        "    )\n",
        "    \n",
        "    # probabilities\n",
        "    price_predicted = y_predict['price']\n",
        "    \n",
        "    \n",
        "    submission = pd.DataFrame()\n",
        "    submission['id'] = df_test.index\n",
        "    submission['price'] = np.argmax(price_predicted, axis=1)\n",
        "    \n",
        "    file_name = 'Compition_4' + classifier_name + '.csv'\n",
        "    submission.to_csv(file_name, index=False)"
      ]
    },
    {
      "cell_type": "markdown",
      "source": [
        "### **Reading the data : **"
      ],
      "metadata": {
        "id": "_J_pNUQe85FH"
      }
    },
    {
      "cell_type": "code",
      "execution_count": 9,
      "metadata": {
        "id": "9FxL61xmcGfT"
      },
      "outputs": [],
      "source": [
        "# reading the trainig dataset \n",
        "df_train = pd.read_csv('train_xy.csv') \n",
        "# reading the testing dataset \n",
        "df_test = pd.read_csv('test_x.csv', index_col= 'id')\n",
        "     "
      ]
    },
    {
      "cell_type": "code",
      "execution_count": 10,
      "metadata": {
        "colab": {
          "base_uri": "https://localhost:8080/",
          "height": 424
        },
        "id": "EI6JTekQcJfa",
        "outputId": "b2cecfc5-3dc1-4131-a26c-3a43f4da2056"
      },
      "outputs": [
        {
          "output_type": "execute_result",
          "data": {
            "text/plain": [
              "                                                summary               image  \\\n",
              "0     Spacious, sunny and cozy modern apartment in t...     img_train/0.jpg   \n",
              "1     Located in one of the most vibrant and accessi...     img_train/1.jpg   \n",
              "2     Logement coquet et douillet à 10 minutes du ce...     img_train/2.jpg   \n",
              "3     Beautiful and spacious (1076 sc ft, / 100 mc) ...     img_train/3.jpg   \n",
              "4     Très grand appartement ''rustique'' et très ag...     img_train/4.jpg   \n",
              "...                                                 ...                 ...   \n",
              "7622  Un grand logement 4 et 1/2, tout inclut, bien ...  img_train/7626.jpg   \n",
              "7623  Magnificent condo directly on the river. You w...  img_train/7627.jpg   \n",
              "7624  This apartment is perfect for anyone visiting ...  img_train/7628.jpg   \n",
              "7625  It is a cozy ,clean ,and comfortable apartment...  img_train/7629.jpg   \n",
              "7626  Modern country style (newly-renovated); open c...  img_train/7630.jpg   \n",
              "\n",
              "           type  price  \n",
              "0     Apartment      1  \n",
              "1     Apartment      0  \n",
              "2     Apartment      1  \n",
              "3     Apartment      1  \n",
              "4     Apartment      0  \n",
              "...         ...    ...  \n",
              "7622  Apartment      0  \n",
              "7623  Apartment      2  \n",
              "7624  Apartment      1  \n",
              "7625  Apartment      0  \n",
              "7626      House      1  \n",
              "\n",
              "[7627 rows x 4 columns]"
            ],
            "text/html": [
              "\n",
              "  <div id=\"df-c951e806-4149-47c9-bd82-3bf84741ec25\">\n",
              "    <div class=\"colab-df-container\">\n",
              "      <div>\n",
              "<style scoped>\n",
              "    .dataframe tbody tr th:only-of-type {\n",
              "        vertical-align: middle;\n",
              "    }\n",
              "\n",
              "    .dataframe tbody tr th {\n",
              "        vertical-align: top;\n",
              "    }\n",
              "\n",
              "    .dataframe thead th {\n",
              "        text-align: right;\n",
              "    }\n",
              "</style>\n",
              "<table border=\"1\" class=\"dataframe\">\n",
              "  <thead>\n",
              "    <tr style=\"text-align: right;\">\n",
              "      <th></th>\n",
              "      <th>summary</th>\n",
              "      <th>image</th>\n",
              "      <th>type</th>\n",
              "      <th>price</th>\n",
              "    </tr>\n",
              "  </thead>\n",
              "  <tbody>\n",
              "    <tr>\n",
              "      <th>0</th>\n",
              "      <td>Spacious, sunny and cozy modern apartment in t...</td>\n",
              "      <td>img_train/0.jpg</td>\n",
              "      <td>Apartment</td>\n",
              "      <td>1</td>\n",
              "    </tr>\n",
              "    <tr>\n",
              "      <th>1</th>\n",
              "      <td>Located in one of the most vibrant and accessi...</td>\n",
              "      <td>img_train/1.jpg</td>\n",
              "      <td>Apartment</td>\n",
              "      <td>0</td>\n",
              "    </tr>\n",
              "    <tr>\n",
              "      <th>2</th>\n",
              "      <td>Logement coquet et douillet à 10 minutes du ce...</td>\n",
              "      <td>img_train/2.jpg</td>\n",
              "      <td>Apartment</td>\n",
              "      <td>1</td>\n",
              "    </tr>\n",
              "    <tr>\n",
              "      <th>3</th>\n",
              "      <td>Beautiful and spacious (1076 sc ft, / 100 mc) ...</td>\n",
              "      <td>img_train/3.jpg</td>\n",
              "      <td>Apartment</td>\n",
              "      <td>1</td>\n",
              "    </tr>\n",
              "    <tr>\n",
              "      <th>4</th>\n",
              "      <td>Très grand appartement ''rustique'' et très ag...</td>\n",
              "      <td>img_train/4.jpg</td>\n",
              "      <td>Apartment</td>\n",
              "      <td>0</td>\n",
              "    </tr>\n",
              "    <tr>\n",
              "      <th>...</th>\n",
              "      <td>...</td>\n",
              "      <td>...</td>\n",
              "      <td>...</td>\n",
              "      <td>...</td>\n",
              "    </tr>\n",
              "    <tr>\n",
              "      <th>7622</th>\n",
              "      <td>Un grand logement 4 et 1/2, tout inclut, bien ...</td>\n",
              "      <td>img_train/7626.jpg</td>\n",
              "      <td>Apartment</td>\n",
              "      <td>0</td>\n",
              "    </tr>\n",
              "    <tr>\n",
              "      <th>7623</th>\n",
              "      <td>Magnificent condo directly on the river. You w...</td>\n",
              "      <td>img_train/7627.jpg</td>\n",
              "      <td>Apartment</td>\n",
              "      <td>2</td>\n",
              "    </tr>\n",
              "    <tr>\n",
              "      <th>7624</th>\n",
              "      <td>This apartment is perfect for anyone visiting ...</td>\n",
              "      <td>img_train/7628.jpg</td>\n",
              "      <td>Apartment</td>\n",
              "      <td>1</td>\n",
              "    </tr>\n",
              "    <tr>\n",
              "      <th>7625</th>\n",
              "      <td>It is a cozy ,clean ,and comfortable apartment...</td>\n",
              "      <td>img_train/7629.jpg</td>\n",
              "      <td>Apartment</td>\n",
              "      <td>0</td>\n",
              "    </tr>\n",
              "    <tr>\n",
              "      <th>7626</th>\n",
              "      <td>Modern country style (newly-renovated); open c...</td>\n",
              "      <td>img_train/7630.jpg</td>\n",
              "      <td>House</td>\n",
              "      <td>1</td>\n",
              "    </tr>\n",
              "  </tbody>\n",
              "</table>\n",
              "<p>7627 rows × 4 columns</p>\n",
              "</div>\n",
              "      <button class=\"colab-df-convert\" onclick=\"convertToInteractive('df-c951e806-4149-47c9-bd82-3bf84741ec25')\"\n",
              "              title=\"Convert this dataframe to an interactive table.\"\n",
              "              style=\"display:none;\">\n",
              "        \n",
              "  <svg xmlns=\"http://www.w3.org/2000/svg\" height=\"24px\"viewBox=\"0 0 24 24\"\n",
              "       width=\"24px\">\n",
              "    <path d=\"M0 0h24v24H0V0z\" fill=\"none\"/>\n",
              "    <path d=\"M18.56 5.44l.94 2.06.94-2.06 2.06-.94-2.06-.94-.94-2.06-.94 2.06-2.06.94zm-11 1L8.5 8.5l.94-2.06 2.06-.94-2.06-.94L8.5 2.5l-.94 2.06-2.06.94zm10 10l.94 2.06.94-2.06 2.06-.94-2.06-.94-.94-2.06-.94 2.06-2.06.94z\"/><path d=\"M17.41 7.96l-1.37-1.37c-.4-.4-.92-.59-1.43-.59-.52 0-1.04.2-1.43.59L10.3 9.45l-7.72 7.72c-.78.78-.78 2.05 0 2.83L4 21.41c.39.39.9.59 1.41.59.51 0 1.02-.2 1.41-.59l7.78-7.78 2.81-2.81c.8-.78.8-2.07 0-2.86zM5.41 20L4 18.59l7.72-7.72 1.47 1.35L5.41 20z\"/>\n",
              "  </svg>\n",
              "      </button>\n",
              "      \n",
              "  <style>\n",
              "    .colab-df-container {\n",
              "      display:flex;\n",
              "      flex-wrap:wrap;\n",
              "      gap: 12px;\n",
              "    }\n",
              "\n",
              "    .colab-df-convert {\n",
              "      background-color: #E8F0FE;\n",
              "      border: none;\n",
              "      border-radius: 50%;\n",
              "      cursor: pointer;\n",
              "      display: none;\n",
              "      fill: #1967D2;\n",
              "      height: 32px;\n",
              "      padding: 0 0 0 0;\n",
              "      width: 32px;\n",
              "    }\n",
              "\n",
              "    .colab-df-convert:hover {\n",
              "      background-color: #E2EBFA;\n",
              "      box-shadow: 0px 1px 2px rgba(60, 64, 67, 0.3), 0px 1px 3px 1px rgba(60, 64, 67, 0.15);\n",
              "      fill: #174EA6;\n",
              "    }\n",
              "\n",
              "    [theme=dark] .colab-df-convert {\n",
              "      background-color: #3B4455;\n",
              "      fill: #D2E3FC;\n",
              "    }\n",
              "\n",
              "    [theme=dark] .colab-df-convert:hover {\n",
              "      background-color: #434B5C;\n",
              "      box-shadow: 0px 1px 3px 1px rgba(0, 0, 0, 0.15);\n",
              "      filter: drop-shadow(0px 1px 2px rgba(0, 0, 0, 0.3));\n",
              "      fill: #FFFFFF;\n",
              "    }\n",
              "  </style>\n",
              "\n",
              "      <script>\n",
              "        const buttonEl =\n",
              "          document.querySelector('#df-c951e806-4149-47c9-bd82-3bf84741ec25 button.colab-df-convert');\n",
              "        buttonEl.style.display =\n",
              "          google.colab.kernel.accessAllowed ? 'block' : 'none';\n",
              "\n",
              "        async function convertToInteractive(key) {\n",
              "          const element = document.querySelector('#df-c951e806-4149-47c9-bd82-3bf84741ec25');\n",
              "          const dataTable =\n",
              "            await google.colab.kernel.invokeFunction('convertToInteractive',\n",
              "                                                     [key], {});\n",
              "          if (!dataTable) return;\n",
              "\n",
              "          const docLinkHtml = 'Like what you see? Visit the ' +\n",
              "            '<a target=\"_blank\" href=https://colab.research.google.com/notebooks/data_table.ipynb>data table notebook</a>'\n",
              "            + ' to learn more about interactive tables.';\n",
              "          element.innerHTML = '';\n",
              "          dataTable['output_type'] = 'display_data';\n",
              "          await google.colab.output.renderOutput(dataTable, element);\n",
              "          const docLink = document.createElement('div');\n",
              "          docLink.innerHTML = docLinkHtml;\n",
              "          element.appendChild(docLink);\n",
              "        }\n",
              "      </script>\n",
              "    </div>\n",
              "  </div>\n",
              "  "
            ]
          },
          "metadata": {},
          "execution_count": 10
        }
      ],
      "source": [
        "# show the training data\n",
        "df_train"
      ]
    },
    {
      "cell_type": "code",
      "execution_count": 11,
      "metadata": {
        "colab": {
          "base_uri": "https://localhost:8080/",
          "height": 455
        },
        "id": "UzpTvGm-GAaR",
        "outputId": "e1c7ade7-b280-41bf-e837-023758a9a42c"
      },
      "outputs": [
        {
          "output_type": "execute_result",
          "data": {
            "text/plain": [
              "                                                summary              image\n",
              "id                                                                        \n",
              "0     Charming warm house is ready to host you here ...     img_test/0.jpg\n",
              "1     La chambre est spacieuse et lumineuse, dans un...     img_test/1.jpg\n",
              "2     Grande chambre confortable située au sous-sol ...     img_test/2.jpg\n",
              "3     Près d’un Métro, ligne orange. 10 minutes à pi...     img_test/3.jpg\n",
              "4     Very bright appartment and very cosy. 2 separa...     img_test/4.jpg\n",
              "...                                                 ...                ...\n",
              "7626  Large, fully-furnished flat with brick walls a...  img_test/7627.jpg\n",
              "7627  Logement situé dans le haut d’un duplex. Vivez...  img_test/7628.jpg\n",
              "7628  My place is close to parks, . My place is good...  img_test/7629.jpg\n",
              "7629  *** For security reasons, I will prioritize gu...  img_test/7630.jpg\n",
              "7630  Stay in an amazing area of Montreal! 5-7 min f...  img_test/7631.jpg\n",
              "\n",
              "[7360 rows x 2 columns]"
            ],
            "text/html": [
              "\n",
              "  <div id=\"df-86e3eb6e-f0d8-4e3e-a67b-43c9f3553dd2\">\n",
              "    <div class=\"colab-df-container\">\n",
              "      <div>\n",
              "<style scoped>\n",
              "    .dataframe tbody tr th:only-of-type {\n",
              "        vertical-align: middle;\n",
              "    }\n",
              "\n",
              "    .dataframe tbody tr th {\n",
              "        vertical-align: top;\n",
              "    }\n",
              "\n",
              "    .dataframe thead th {\n",
              "        text-align: right;\n",
              "    }\n",
              "</style>\n",
              "<table border=\"1\" class=\"dataframe\">\n",
              "  <thead>\n",
              "    <tr style=\"text-align: right;\">\n",
              "      <th></th>\n",
              "      <th>summary</th>\n",
              "      <th>image</th>\n",
              "    </tr>\n",
              "    <tr>\n",
              "      <th>id</th>\n",
              "      <th></th>\n",
              "      <th></th>\n",
              "    </tr>\n",
              "  </thead>\n",
              "  <tbody>\n",
              "    <tr>\n",
              "      <th>0</th>\n",
              "      <td>Charming warm house is ready to host you here ...</td>\n",
              "      <td>img_test/0.jpg</td>\n",
              "    </tr>\n",
              "    <tr>\n",
              "      <th>1</th>\n",
              "      <td>La chambre est spacieuse et lumineuse, dans un...</td>\n",
              "      <td>img_test/1.jpg</td>\n",
              "    </tr>\n",
              "    <tr>\n",
              "      <th>2</th>\n",
              "      <td>Grande chambre confortable située au sous-sol ...</td>\n",
              "      <td>img_test/2.jpg</td>\n",
              "    </tr>\n",
              "    <tr>\n",
              "      <th>3</th>\n",
              "      <td>Près d’un Métro, ligne orange. 10 minutes à pi...</td>\n",
              "      <td>img_test/3.jpg</td>\n",
              "    </tr>\n",
              "    <tr>\n",
              "      <th>4</th>\n",
              "      <td>Very bright appartment and very cosy. 2 separa...</td>\n",
              "      <td>img_test/4.jpg</td>\n",
              "    </tr>\n",
              "    <tr>\n",
              "      <th>...</th>\n",
              "      <td>...</td>\n",
              "      <td>...</td>\n",
              "    </tr>\n",
              "    <tr>\n",
              "      <th>7626</th>\n",
              "      <td>Large, fully-furnished flat with brick walls a...</td>\n",
              "      <td>img_test/7627.jpg</td>\n",
              "    </tr>\n",
              "    <tr>\n",
              "      <th>7627</th>\n",
              "      <td>Logement situé dans le haut d’un duplex. Vivez...</td>\n",
              "      <td>img_test/7628.jpg</td>\n",
              "    </tr>\n",
              "    <tr>\n",
              "      <th>7628</th>\n",
              "      <td>My place is close to parks, . My place is good...</td>\n",
              "      <td>img_test/7629.jpg</td>\n",
              "    </tr>\n",
              "    <tr>\n",
              "      <th>7629</th>\n",
              "      <td>*** For security reasons, I will prioritize gu...</td>\n",
              "      <td>img_test/7630.jpg</td>\n",
              "    </tr>\n",
              "    <tr>\n",
              "      <th>7630</th>\n",
              "      <td>Stay in an amazing area of Montreal! 5-7 min f...</td>\n",
              "      <td>img_test/7631.jpg</td>\n",
              "    </tr>\n",
              "  </tbody>\n",
              "</table>\n",
              "<p>7360 rows × 2 columns</p>\n",
              "</div>\n",
              "      <button class=\"colab-df-convert\" onclick=\"convertToInteractive('df-86e3eb6e-f0d8-4e3e-a67b-43c9f3553dd2')\"\n",
              "              title=\"Convert this dataframe to an interactive table.\"\n",
              "              style=\"display:none;\">\n",
              "        \n",
              "  <svg xmlns=\"http://www.w3.org/2000/svg\" height=\"24px\"viewBox=\"0 0 24 24\"\n",
              "       width=\"24px\">\n",
              "    <path d=\"M0 0h24v24H0V0z\" fill=\"none\"/>\n",
              "    <path d=\"M18.56 5.44l.94 2.06.94-2.06 2.06-.94-2.06-.94-.94-2.06-.94 2.06-2.06.94zm-11 1L8.5 8.5l.94-2.06 2.06-.94-2.06-.94L8.5 2.5l-.94 2.06-2.06.94zm10 10l.94 2.06.94-2.06 2.06-.94-2.06-.94-.94-2.06-.94 2.06-2.06.94z\"/><path d=\"M17.41 7.96l-1.37-1.37c-.4-.4-.92-.59-1.43-.59-.52 0-1.04.2-1.43.59L10.3 9.45l-7.72 7.72c-.78.78-.78 2.05 0 2.83L4 21.41c.39.39.9.59 1.41.59.51 0 1.02-.2 1.41-.59l7.78-7.78 2.81-2.81c.8-.78.8-2.07 0-2.86zM5.41 20L4 18.59l7.72-7.72 1.47 1.35L5.41 20z\"/>\n",
              "  </svg>\n",
              "      </button>\n",
              "      \n",
              "  <style>\n",
              "    .colab-df-container {\n",
              "      display:flex;\n",
              "      flex-wrap:wrap;\n",
              "      gap: 12px;\n",
              "    }\n",
              "\n",
              "    .colab-df-convert {\n",
              "      background-color: #E8F0FE;\n",
              "      border: none;\n",
              "      border-radius: 50%;\n",
              "      cursor: pointer;\n",
              "      display: none;\n",
              "      fill: #1967D2;\n",
              "      height: 32px;\n",
              "      padding: 0 0 0 0;\n",
              "      width: 32px;\n",
              "    }\n",
              "\n",
              "    .colab-df-convert:hover {\n",
              "      background-color: #E2EBFA;\n",
              "      box-shadow: 0px 1px 2px rgba(60, 64, 67, 0.3), 0px 1px 3px 1px rgba(60, 64, 67, 0.15);\n",
              "      fill: #174EA6;\n",
              "    }\n",
              "\n",
              "    [theme=dark] .colab-df-convert {\n",
              "      background-color: #3B4455;\n",
              "      fill: #D2E3FC;\n",
              "    }\n",
              "\n",
              "    [theme=dark] .colab-df-convert:hover {\n",
              "      background-color: #434B5C;\n",
              "      box-shadow: 0px 1px 3px 1px rgba(0, 0, 0, 0.15);\n",
              "      filter: drop-shadow(0px 1px 2px rgba(0, 0, 0, 0.3));\n",
              "      fill: #FFFFFF;\n",
              "    }\n",
              "  </style>\n",
              "\n",
              "      <script>\n",
              "        const buttonEl =\n",
              "          document.querySelector('#df-86e3eb6e-f0d8-4e3e-a67b-43c9f3553dd2 button.colab-df-convert');\n",
              "        buttonEl.style.display =\n",
              "          google.colab.kernel.accessAllowed ? 'block' : 'none';\n",
              "\n",
              "        async function convertToInteractive(key) {\n",
              "          const element = document.querySelector('#df-86e3eb6e-f0d8-4e3e-a67b-43c9f3553dd2');\n",
              "          const dataTable =\n",
              "            await google.colab.kernel.invokeFunction('convertToInteractive',\n",
              "                                                     [key], {});\n",
              "          if (!dataTable) return;\n",
              "\n",
              "          const docLinkHtml = 'Like what you see? Visit the ' +\n",
              "            '<a target=\"_blank\" href=https://colab.research.google.com/notebooks/data_table.ipynb>data table notebook</a>'\n",
              "            + ' to learn more about interactive tables.';\n",
              "          element.innerHTML = '';\n",
              "          dataTable['output_type'] = 'display_data';\n",
              "          await google.colab.output.renderOutput(dataTable, element);\n",
              "          const docLink = document.createElement('div');\n",
              "          docLink.innerHTML = docLinkHtml;\n",
              "          element.appendChild(docLink);\n",
              "        }\n",
              "      </script>\n",
              "    </div>\n",
              "  </div>\n",
              "  "
            ]
          },
          "metadata": {},
          "execution_count": 11
        }
      ],
      "source": [
        "# show the testing data\n",
        "df_test"
      ]
    },
    {
      "cell_type": "markdown",
      "source": [
        "### **preprocessing**"
      ],
      "metadata": {
        "id": "cpqvVTOz9R7H"
      }
    },
    {
      "cell_type": "code",
      "execution_count": 12,
      "metadata": {
        "colab": {
          "base_uri": "https://localhost:8080/"
        },
        "id": "NpDnJm7ZcQHC",
        "outputId": "43d073d2-de15-4b00-8818-f96a00e04707"
      },
      "outputs": [
        {
          "output_type": "execute_result",
          "data": {
            "text/plain": [
              "summary    301\n",
              "image        0\n",
              "type         0\n",
              "price        0\n",
              "dtype: int64"
            ]
          },
          "metadata": {},
          "execution_count": 12
        }
      ],
      "source": [
        "# check the data have the null values in training data\n",
        "df_train.isna().sum()"
      ]
    },
    {
      "cell_type": "code",
      "execution_count": 13,
      "metadata": {
        "colab": {
          "base_uri": "https://localhost:8080/"
        },
        "id": "7yTXMacpcU6C",
        "outputId": "4c192c09-b4de-41d5-e579-d607d8318a93"
      },
      "outputs": [
        {
          "output_type": "execute_result",
          "data": {
            "text/plain": [
              "summary    0\n",
              "image      0\n",
              "dtype: int64"
            ]
          },
          "metadata": {},
          "execution_count": 13
        }
      ],
      "source": [
        "# check the data have the null values in testing data\n",
        "df_test.isna().sum()"
      ]
    },
    {
      "cell_type": "code",
      "execution_count": 14,
      "metadata": {
        "id": "V6bPd4akcXJK"
      },
      "outputs": [],
      "source": [
        "# Drop the null value in training data \n",
        "df_train = df_train.dropna()"
      ]
    },
    {
      "cell_type": "code",
      "execution_count": 15,
      "metadata": {
        "colab": {
          "base_uri": "https://localhost:8080/"
        },
        "id": "crwf_Mg7cZoD",
        "outputId": "1369e49e-1e05-4146-882b-ee2e61e73fea"
      },
      "outputs": [
        {
          "output_type": "execute_result",
          "data": {
            "text/plain": [
              "en       5265\n",
              "fr       2029\n",
              "zh-cn      11\n",
              "es          5\n",
              "de          5\n",
              "ro          3\n",
              "af          2\n",
              "ko          1\n",
              "nl          1\n",
              "ca          1\n",
              "da          1\n",
              "pt          1\n",
              "vi          1\n",
              "Name: summary, dtype: int64"
            ]
          },
          "metadata": {},
          "execution_count": 15
        }
      ],
      "source": [
        "#check the language:\n",
        "df_train['summary'].apply(detect_langauge_text).value_counts()"
      ]
    },
    {
      "cell_type": "code",
      "execution_count": 16,
      "metadata": {
        "colab": {
          "base_uri": "https://localhost:8080/"
        },
        "id": "kFQtPwozGWXF",
        "outputId": "d568ac16-6a25-4569-f9c1-758436f13a92"
      },
      "outputs": [
        {
          "output_type": "execute_result",
          "data": {
            "text/plain": [
              "en         5270\n",
              "fr         2047\n",
              "zh-cn         9\n",
              "es            6\n",
              "de            5\n",
              "ro            3\n",
              "pt            3\n",
              "af            3\n",
              "ko            3\n",
              "nl            2\n",
              "vi            2\n",
              "no            1\n",
              "tl            1\n",
              "it            1\n",
              "ca            1\n",
              "id            1\n",
              "et            1\n",
              "unknown       1\n",
              "Name: summary, dtype: int64"
            ]
          },
          "metadata": {},
          "execution_count": 16
        }
      ],
      "source": [
        "df_test['summary'].apply(detect_langauge_text).value_counts()"
      ]
    },
    {
      "cell_type": "code",
      "execution_count": 17,
      "metadata": {
        "id": "6RAM8bYPcdIU"
      },
      "outputs": [],
      "source": [
        "# Translate the text to english language in training and testing data\n",
        "translator = Translator()\n",
        "df_train.summary = df_train.summary.apply(lambda x: translator.translate(x, dest='en').text)\n",
        "df_test.summary = df_test.summary.apply(lambda x: translator.translate(x, dest='en').text)"
      ]
    },
    {
      "cell_type": "code",
      "execution_count": 18,
      "metadata": {
        "id": "K7DO0be0G-JD",
        "colab": {
          "base_uri": "https://localhost:8080/"
        },
        "outputId": "9650e8e9-3b56-4949-f359-9f3808099f08"
      },
      "outputs": [
        {
          "output_type": "stream",
          "name": "stdout",
          "text": [
            "CPU times: user 5.19 s, sys: 21.8 ms, total: 5.21 s\n",
            "Wall time: 5.22 s\n"
          ]
        }
      ],
      "source": [
        "%%time\n",
        "# Clean texts training data \n",
        "df_train[\"summary_clean\"] = df_train.loc[df_train[\"summary\"].str.len() > 0, \"summary\"] # get all text data the length it greater than 0 in training data\n",
        "# call clean_text of method to apply it on text_clean feature in traing data\n",
        "df_train[\"summary_clean\"] = df_train[\"summary_clean\"].map(\n",
        "    lambda x: clean_text(x, for_embedding=False) if isinstance(x, str) else x  # check if text is instance of string\n",
        ")"
      ]
    },
    {
      "cell_type": "code",
      "execution_count": 19,
      "metadata": {
        "id": "hJzZhyLxG-wA",
        "colab": {
          "base_uri": "https://localhost:8080/"
        },
        "outputId": "b6eb4063-fc6b-4bc1-f74d-f221c3a91cb7"
      },
      "outputs": [
        {
          "output_type": "stream",
          "name": "stdout",
          "text": [
            "CPU times: user 5.97 s, sys: 12.4 ms, total: 5.98 s\n",
            "Wall time: 6.04 s\n"
          ]
        }
      ],
      "source": [
        "%%time\n",
        "# Clean texts training data \n",
        "df_test[\"summary_clean\"] = df_test.loc[df_test[\"summary\"].str.len() > 0, \"summary\"] # get all text data the length it greater than 0 in training data\n",
        "# call clean_text of method to apply it on text_clean feature in traing data\n",
        "df_test[\"summary_clean\"] = df_test[\"summary_clean\"].map(\n",
        "    lambda x: clean_text(x, for_embedding=False) if isinstance(x, str) else x  # check if text is instance of string\n",
        ") "
      ]
    },
    {
      "cell_type": "code",
      "execution_count": 20,
      "metadata": {
        "id": "1c_-8aH0HBeR",
        "colab": {
          "base_uri": "https://localhost:8080/",
          "height": 424
        },
        "outputId": "e545aa23-bcb2-4597-f840-625268bdfc3a"
      },
      "outputs": [
        {
          "output_type": "execute_result",
          "data": {
            "text/plain": [
              "                                                summary               image  \\\n",
              "0     Spacious, sunny and cozy modern apartment in t...     img_train/0.jpg   \n",
              "1     Located in one of the most vibrant and accessi...     img_train/1.jpg   \n",
              "2     Pretty and cozy accommodation 10 minutes from ...     img_train/2.jpg   \n",
              "3     Beautiful and spacious (1076 sc ft, / 100 mc) ...     img_train/3.jpg   \n",
              "4     Very large ''rustic'' and very pleasant apartm...     img_train/4.jpg   \n",
              "...                                                 ...                 ...   \n",
              "7622  A large 4 and 1/2 apartment, all inclusive, we...  img_train/7626.jpg   \n",
              "7623  Magnificent condo directly on the river. You w...  img_train/7627.jpg   \n",
              "7624  This apartment is perfect for anyone visiting ...  img_train/7628.jpg   \n",
              "7625  It is a cozy ,clean ,and comfortable apartment...  img_train/7629.jpg   \n",
              "7626  Modern country style (newly-renovated); open c...  img_train/7630.jpg   \n",
              "\n",
              "           type  price                                      summary_clean  \n",
              "0     Apartment      1  spacious sunni cozi modern apart heart montrea...  \n",
              "1     Apartment      0  locat one vibrant access locat downtown montre...  \n",
              "2     Apartment      1  pretti cozi accommod minut downtown montreal g...  \n",
              "3     Apartment      1  beauti spacious sc ft mc condo th floor west i...  \n",
              "4     Apartment      0  larg rustic pleasant apart rent nice neighborh...  \n",
              "...         ...    ...                                                ...  \n",
              "7622  Apartment      0  larg apart inclus well lit locat quiet build r...  \n",
              "7623  Apartment      2  magnific condo direct river sleep song wild bi...  \n",
              "7624  Apartment      1  apart perfect anyon visit citi locat eclect ne...  \n",
              "7625  Apartment      0  cozi clean comfort apart heart downtown websit...  \n",
              "7626      House      1  modern countri style newli renov open concept ...  \n",
              "\n",
              "[7326 rows x 5 columns]"
            ],
            "text/html": [
              "\n",
              "  <div id=\"df-db07989e-72cc-4454-9792-3fbf4252ac2f\">\n",
              "    <div class=\"colab-df-container\">\n",
              "      <div>\n",
              "<style scoped>\n",
              "    .dataframe tbody tr th:only-of-type {\n",
              "        vertical-align: middle;\n",
              "    }\n",
              "\n",
              "    .dataframe tbody tr th {\n",
              "        vertical-align: top;\n",
              "    }\n",
              "\n",
              "    .dataframe thead th {\n",
              "        text-align: right;\n",
              "    }\n",
              "</style>\n",
              "<table border=\"1\" class=\"dataframe\">\n",
              "  <thead>\n",
              "    <tr style=\"text-align: right;\">\n",
              "      <th></th>\n",
              "      <th>summary</th>\n",
              "      <th>image</th>\n",
              "      <th>type</th>\n",
              "      <th>price</th>\n",
              "      <th>summary_clean</th>\n",
              "    </tr>\n",
              "  </thead>\n",
              "  <tbody>\n",
              "    <tr>\n",
              "      <th>0</th>\n",
              "      <td>Spacious, sunny and cozy modern apartment in t...</td>\n",
              "      <td>img_train/0.jpg</td>\n",
              "      <td>Apartment</td>\n",
              "      <td>1</td>\n",
              "      <td>spacious sunni cozi modern apart heart montrea...</td>\n",
              "    </tr>\n",
              "    <tr>\n",
              "      <th>1</th>\n",
              "      <td>Located in one of the most vibrant and accessi...</td>\n",
              "      <td>img_train/1.jpg</td>\n",
              "      <td>Apartment</td>\n",
              "      <td>0</td>\n",
              "      <td>locat one vibrant access locat downtown montre...</td>\n",
              "    </tr>\n",
              "    <tr>\n",
              "      <th>2</th>\n",
              "      <td>Pretty and cozy accommodation 10 minutes from ...</td>\n",
              "      <td>img_train/2.jpg</td>\n",
              "      <td>Apartment</td>\n",
              "      <td>1</td>\n",
              "      <td>pretti cozi accommod minut downtown montreal g...</td>\n",
              "    </tr>\n",
              "    <tr>\n",
              "      <th>3</th>\n",
              "      <td>Beautiful and spacious (1076 sc ft, / 100 mc) ...</td>\n",
              "      <td>img_train/3.jpg</td>\n",
              "      <td>Apartment</td>\n",
              "      <td>1</td>\n",
              "      <td>beauti spacious sc ft mc condo th floor west i...</td>\n",
              "    </tr>\n",
              "    <tr>\n",
              "      <th>4</th>\n",
              "      <td>Very large ''rustic'' and very pleasant apartm...</td>\n",
              "      <td>img_train/4.jpg</td>\n",
              "      <td>Apartment</td>\n",
              "      <td>0</td>\n",
              "      <td>larg rustic pleasant apart rent nice neighborh...</td>\n",
              "    </tr>\n",
              "    <tr>\n",
              "      <th>...</th>\n",
              "      <td>...</td>\n",
              "      <td>...</td>\n",
              "      <td>...</td>\n",
              "      <td>...</td>\n",
              "      <td>...</td>\n",
              "    </tr>\n",
              "    <tr>\n",
              "      <th>7622</th>\n",
              "      <td>A large 4 and 1/2 apartment, all inclusive, we...</td>\n",
              "      <td>img_train/7626.jpg</td>\n",
              "      <td>Apartment</td>\n",
              "      <td>0</td>\n",
              "      <td>larg apart inclus well lit locat quiet build r...</td>\n",
              "    </tr>\n",
              "    <tr>\n",
              "      <th>7623</th>\n",
              "      <td>Magnificent condo directly on the river. You w...</td>\n",
              "      <td>img_train/7627.jpg</td>\n",
              "      <td>Apartment</td>\n",
              "      <td>2</td>\n",
              "      <td>magnific condo direct river sleep song wild bi...</td>\n",
              "    </tr>\n",
              "    <tr>\n",
              "      <th>7624</th>\n",
              "      <td>This apartment is perfect for anyone visiting ...</td>\n",
              "      <td>img_train/7628.jpg</td>\n",
              "      <td>Apartment</td>\n",
              "      <td>1</td>\n",
              "      <td>apart perfect anyon visit citi locat eclect ne...</td>\n",
              "    </tr>\n",
              "    <tr>\n",
              "      <th>7625</th>\n",
              "      <td>It is a cozy ,clean ,and comfortable apartment...</td>\n",
              "      <td>img_train/7629.jpg</td>\n",
              "      <td>Apartment</td>\n",
              "      <td>0</td>\n",
              "      <td>cozi clean comfort apart heart downtown websit...</td>\n",
              "    </tr>\n",
              "    <tr>\n",
              "      <th>7626</th>\n",
              "      <td>Modern country style (newly-renovated); open c...</td>\n",
              "      <td>img_train/7630.jpg</td>\n",
              "      <td>House</td>\n",
              "      <td>1</td>\n",
              "      <td>modern countri style newli renov open concept ...</td>\n",
              "    </tr>\n",
              "  </tbody>\n",
              "</table>\n",
              "<p>7326 rows × 5 columns</p>\n",
              "</div>\n",
              "      <button class=\"colab-df-convert\" onclick=\"convertToInteractive('df-db07989e-72cc-4454-9792-3fbf4252ac2f')\"\n",
              "              title=\"Convert this dataframe to an interactive table.\"\n",
              "              style=\"display:none;\">\n",
              "        \n",
              "  <svg xmlns=\"http://www.w3.org/2000/svg\" height=\"24px\"viewBox=\"0 0 24 24\"\n",
              "       width=\"24px\">\n",
              "    <path d=\"M0 0h24v24H0V0z\" fill=\"none\"/>\n",
              "    <path d=\"M18.56 5.44l.94 2.06.94-2.06 2.06-.94-2.06-.94-.94-2.06-.94 2.06-2.06.94zm-11 1L8.5 8.5l.94-2.06 2.06-.94-2.06-.94L8.5 2.5l-.94 2.06-2.06.94zm10 10l.94 2.06.94-2.06 2.06-.94-2.06-.94-.94-2.06-.94 2.06-2.06.94z\"/><path d=\"M17.41 7.96l-1.37-1.37c-.4-.4-.92-.59-1.43-.59-.52 0-1.04.2-1.43.59L10.3 9.45l-7.72 7.72c-.78.78-.78 2.05 0 2.83L4 21.41c.39.39.9.59 1.41.59.51 0 1.02-.2 1.41-.59l7.78-7.78 2.81-2.81c.8-.78.8-2.07 0-2.86zM5.41 20L4 18.59l7.72-7.72 1.47 1.35L5.41 20z\"/>\n",
              "  </svg>\n",
              "      </button>\n",
              "      \n",
              "  <style>\n",
              "    .colab-df-container {\n",
              "      display:flex;\n",
              "      flex-wrap:wrap;\n",
              "      gap: 12px;\n",
              "    }\n",
              "\n",
              "    .colab-df-convert {\n",
              "      background-color: #E8F0FE;\n",
              "      border: none;\n",
              "      border-radius: 50%;\n",
              "      cursor: pointer;\n",
              "      display: none;\n",
              "      fill: #1967D2;\n",
              "      height: 32px;\n",
              "      padding: 0 0 0 0;\n",
              "      width: 32px;\n",
              "    }\n",
              "\n",
              "    .colab-df-convert:hover {\n",
              "      background-color: #E2EBFA;\n",
              "      box-shadow: 0px 1px 2px rgba(60, 64, 67, 0.3), 0px 1px 3px 1px rgba(60, 64, 67, 0.15);\n",
              "      fill: #174EA6;\n",
              "    }\n",
              "\n",
              "    [theme=dark] .colab-df-convert {\n",
              "      background-color: #3B4455;\n",
              "      fill: #D2E3FC;\n",
              "    }\n",
              "\n",
              "    [theme=dark] .colab-df-convert:hover {\n",
              "      background-color: #434B5C;\n",
              "      box-shadow: 0px 1px 3px 1px rgba(0, 0, 0, 0.15);\n",
              "      filter: drop-shadow(0px 1px 2px rgba(0, 0, 0, 0.3));\n",
              "      fill: #FFFFFF;\n",
              "    }\n",
              "  </style>\n",
              "\n",
              "      <script>\n",
              "        const buttonEl =\n",
              "          document.querySelector('#df-db07989e-72cc-4454-9792-3fbf4252ac2f button.colab-df-convert');\n",
              "        buttonEl.style.display =\n",
              "          google.colab.kernel.accessAllowed ? 'block' : 'none';\n",
              "\n",
              "        async function convertToInteractive(key) {\n",
              "          const element = document.querySelector('#df-db07989e-72cc-4454-9792-3fbf4252ac2f');\n",
              "          const dataTable =\n",
              "            await google.colab.kernel.invokeFunction('convertToInteractive',\n",
              "                                                     [key], {});\n",
              "          if (!dataTable) return;\n",
              "\n",
              "          const docLinkHtml = 'Like what you see? Visit the ' +\n",
              "            '<a target=\"_blank\" href=https://colab.research.google.com/notebooks/data_table.ipynb>data table notebook</a>'\n",
              "            + ' to learn more about interactive tables.';\n",
              "          element.innerHTML = '';\n",
              "          dataTable['output_type'] = 'display_data';\n",
              "          await google.colab.output.renderOutput(dataTable, element);\n",
              "          const docLink = document.createElement('div');\n",
              "          docLink.innerHTML = docLinkHtml;\n",
              "          element.appendChild(docLink);\n",
              "        }\n",
              "      </script>\n",
              "    </div>\n",
              "  </div>\n",
              "  "
            ]
          },
          "metadata": {},
          "execution_count": 20
        }
      ],
      "source": [
        "#show the training data\n",
        "df_train\n",
        "     "
      ]
    },
    {
      "cell_type": "code",
      "execution_count": 21,
      "metadata": {
        "id": "dgT_3AMRMoDr",
        "colab": {
          "base_uri": "https://localhost:8080/",
          "height": 455
        },
        "outputId": "33c159b6-01d3-4a0d-9780-5e2434406271"
      },
      "outputs": [
        {
          "output_type": "execute_result",
          "data": {
            "text/plain": [
              "                                                summary              image  \\\n",
              "id                                                                           \n",
              "0     Charming warm house is ready to host you here ...     img_test/0.jpg   \n",
              "1     The room is spacious and bright, in an apartme...     img_test/1.jpg   \n",
              "2     Large comfortable room located in the basement...     img_test/2.jpg   \n",
              "3     Near a Metro, orange line. 10 minutes walking....     img_test/3.jpg   \n",
              "4     Very bright appartment and very cosy. 2 separa...     img_test/4.jpg   \n",
              "...                                                 ...                ...   \n",
              "7626  Large, fully-furnished flat with brick walls a...  img_test/7627.jpg   \n",
              "7627  Accommodation located at the top of a duplex. ...  img_test/7628.jpg   \n",
              "7628  My place is close to parks, . My place is good...  img_test/7629.jpg   \n",
              "7629  *** For security reasons, I will prioritize gu...  img_test/7630.jpg   \n",
              "7630  Stay in an amazing area of Montreal! 5-7 min f...  img_test/7631.jpg   \n",
              "\n",
              "                                          summary_clean  \n",
              "id                                                       \n",
              "0     charm warm hous readi host multi cultur parc e...  \n",
              "1        room spacious bright apart share three roommat  \n",
              "2     larg comfort room locat basement hous larg bat...  \n",
              "3     near metro orang line minut walk ahunts reside...  \n",
              "4     bright appart cosi separ bedroom queen size do...  \n",
              "...                                                 ...  \n",
              "7626  larg fulli furnish flat brick wall hardwood fl...  \n",
              "7627  accommod locat top duplex live charm montreal ...  \n",
              "7628                  place close park place good coupl  \n",
              "7629  secur reason priorit guest review thank unders...  \n",
              "7630  stay amaz area montreal min downtown easi acce...  \n",
              "\n",
              "[7360 rows x 3 columns]"
            ],
            "text/html": [
              "\n",
              "  <div id=\"df-04995312-1c05-4340-9bc7-87132800255c\">\n",
              "    <div class=\"colab-df-container\">\n",
              "      <div>\n",
              "<style scoped>\n",
              "    .dataframe tbody tr th:only-of-type {\n",
              "        vertical-align: middle;\n",
              "    }\n",
              "\n",
              "    .dataframe tbody tr th {\n",
              "        vertical-align: top;\n",
              "    }\n",
              "\n",
              "    .dataframe thead th {\n",
              "        text-align: right;\n",
              "    }\n",
              "</style>\n",
              "<table border=\"1\" class=\"dataframe\">\n",
              "  <thead>\n",
              "    <tr style=\"text-align: right;\">\n",
              "      <th></th>\n",
              "      <th>summary</th>\n",
              "      <th>image</th>\n",
              "      <th>summary_clean</th>\n",
              "    </tr>\n",
              "    <tr>\n",
              "      <th>id</th>\n",
              "      <th></th>\n",
              "      <th></th>\n",
              "      <th></th>\n",
              "    </tr>\n",
              "  </thead>\n",
              "  <tbody>\n",
              "    <tr>\n",
              "      <th>0</th>\n",
              "      <td>Charming warm house is ready to host you here ...</td>\n",
              "      <td>img_test/0.jpg</td>\n",
              "      <td>charm warm hous readi host multi cultur parc e...</td>\n",
              "    </tr>\n",
              "    <tr>\n",
              "      <th>1</th>\n",
              "      <td>The room is spacious and bright, in an apartme...</td>\n",
              "      <td>img_test/1.jpg</td>\n",
              "      <td>room spacious bright apart share three roommat</td>\n",
              "    </tr>\n",
              "    <tr>\n",
              "      <th>2</th>\n",
              "      <td>Large comfortable room located in the basement...</td>\n",
              "      <td>img_test/2.jpg</td>\n",
              "      <td>larg comfort room locat basement hous larg bat...</td>\n",
              "    </tr>\n",
              "    <tr>\n",
              "      <th>3</th>\n",
              "      <td>Near a Metro, orange line. 10 minutes walking....</td>\n",
              "      <td>img_test/3.jpg</td>\n",
              "      <td>near metro orang line minut walk ahunts reside...</td>\n",
              "    </tr>\n",
              "    <tr>\n",
              "      <th>4</th>\n",
              "      <td>Very bright appartment and very cosy. 2 separa...</td>\n",
              "      <td>img_test/4.jpg</td>\n",
              "      <td>bright appart cosi separ bedroom queen size do...</td>\n",
              "    </tr>\n",
              "    <tr>\n",
              "      <th>...</th>\n",
              "      <td>...</td>\n",
              "      <td>...</td>\n",
              "      <td>...</td>\n",
              "    </tr>\n",
              "    <tr>\n",
              "      <th>7626</th>\n",
              "      <td>Large, fully-furnished flat with brick walls a...</td>\n",
              "      <td>img_test/7627.jpg</td>\n",
              "      <td>larg fulli furnish flat brick wall hardwood fl...</td>\n",
              "    </tr>\n",
              "    <tr>\n",
              "      <th>7627</th>\n",
              "      <td>Accommodation located at the top of a duplex. ...</td>\n",
              "      <td>img_test/7628.jpg</td>\n",
              "      <td>accommod locat top duplex live charm montreal ...</td>\n",
              "    </tr>\n",
              "    <tr>\n",
              "      <th>7628</th>\n",
              "      <td>My place is close to parks, . My place is good...</td>\n",
              "      <td>img_test/7629.jpg</td>\n",
              "      <td>place close park place good coupl</td>\n",
              "    </tr>\n",
              "    <tr>\n",
              "      <th>7629</th>\n",
              "      <td>*** For security reasons, I will prioritize gu...</td>\n",
              "      <td>img_test/7630.jpg</td>\n",
              "      <td>secur reason priorit guest review thank unders...</td>\n",
              "    </tr>\n",
              "    <tr>\n",
              "      <th>7630</th>\n",
              "      <td>Stay in an amazing area of Montreal! 5-7 min f...</td>\n",
              "      <td>img_test/7631.jpg</td>\n",
              "      <td>stay amaz area montreal min downtown easi acce...</td>\n",
              "    </tr>\n",
              "  </tbody>\n",
              "</table>\n",
              "<p>7360 rows × 3 columns</p>\n",
              "</div>\n",
              "      <button class=\"colab-df-convert\" onclick=\"convertToInteractive('df-04995312-1c05-4340-9bc7-87132800255c')\"\n",
              "              title=\"Convert this dataframe to an interactive table.\"\n",
              "              style=\"display:none;\">\n",
              "        \n",
              "  <svg xmlns=\"http://www.w3.org/2000/svg\" height=\"24px\"viewBox=\"0 0 24 24\"\n",
              "       width=\"24px\">\n",
              "    <path d=\"M0 0h24v24H0V0z\" fill=\"none\"/>\n",
              "    <path d=\"M18.56 5.44l.94 2.06.94-2.06 2.06-.94-2.06-.94-.94-2.06-.94 2.06-2.06.94zm-11 1L8.5 8.5l.94-2.06 2.06-.94-2.06-.94L8.5 2.5l-.94 2.06-2.06.94zm10 10l.94 2.06.94-2.06 2.06-.94-2.06-.94-.94-2.06-.94 2.06-2.06.94z\"/><path d=\"M17.41 7.96l-1.37-1.37c-.4-.4-.92-.59-1.43-.59-.52 0-1.04.2-1.43.59L10.3 9.45l-7.72 7.72c-.78.78-.78 2.05 0 2.83L4 21.41c.39.39.9.59 1.41.59.51 0 1.02-.2 1.41-.59l7.78-7.78 2.81-2.81c.8-.78.8-2.07 0-2.86zM5.41 20L4 18.59l7.72-7.72 1.47 1.35L5.41 20z\"/>\n",
              "  </svg>\n",
              "      </button>\n",
              "      \n",
              "  <style>\n",
              "    .colab-df-container {\n",
              "      display:flex;\n",
              "      flex-wrap:wrap;\n",
              "      gap: 12px;\n",
              "    }\n",
              "\n",
              "    .colab-df-convert {\n",
              "      background-color: #E8F0FE;\n",
              "      border: none;\n",
              "      border-radius: 50%;\n",
              "      cursor: pointer;\n",
              "      display: none;\n",
              "      fill: #1967D2;\n",
              "      height: 32px;\n",
              "      padding: 0 0 0 0;\n",
              "      width: 32px;\n",
              "    }\n",
              "\n",
              "    .colab-df-convert:hover {\n",
              "      background-color: #E2EBFA;\n",
              "      box-shadow: 0px 1px 2px rgba(60, 64, 67, 0.3), 0px 1px 3px 1px rgba(60, 64, 67, 0.15);\n",
              "      fill: #174EA6;\n",
              "    }\n",
              "\n",
              "    [theme=dark] .colab-df-convert {\n",
              "      background-color: #3B4455;\n",
              "      fill: #D2E3FC;\n",
              "    }\n",
              "\n",
              "    [theme=dark] .colab-df-convert:hover {\n",
              "      background-color: #434B5C;\n",
              "      box-shadow: 0px 1px 3px 1px rgba(0, 0, 0, 0.15);\n",
              "      filter: drop-shadow(0px 1px 2px rgba(0, 0, 0, 0.3));\n",
              "      fill: #FFFFFF;\n",
              "    }\n",
              "  </style>\n",
              "\n",
              "      <script>\n",
              "        const buttonEl =\n",
              "          document.querySelector('#df-04995312-1c05-4340-9bc7-87132800255c button.colab-df-convert');\n",
              "        buttonEl.style.display =\n",
              "          google.colab.kernel.accessAllowed ? 'block' : 'none';\n",
              "\n",
              "        async function convertToInteractive(key) {\n",
              "          const element = document.querySelector('#df-04995312-1c05-4340-9bc7-87132800255c');\n",
              "          const dataTable =\n",
              "            await google.colab.kernel.invokeFunction('convertToInteractive',\n",
              "                                                     [key], {});\n",
              "          if (!dataTable) return;\n",
              "\n",
              "          const docLinkHtml = 'Like what you see? Visit the ' +\n",
              "            '<a target=\"_blank\" href=https://colab.research.google.com/notebooks/data_table.ipynb>data table notebook</a>'\n",
              "            + ' to learn more about interactive tables.';\n",
              "          element.innerHTML = '';\n",
              "          dataTable['output_type'] = 'display_data';\n",
              "          await google.colab.output.renderOutput(dataTable, element);\n",
              "          const docLink = document.createElement('div');\n",
              "          docLink.innerHTML = docLinkHtml;\n",
              "          element.appendChild(docLink);\n",
              "        }\n",
              "      </script>\n",
              "    </div>\n",
              "  </div>\n",
              "  "
            ]
          },
          "metadata": {},
          "execution_count": 21
        }
      ],
      "source": [
        "# Show the testing data\n",
        "df_test"
      ]
    },
    {
      "cell_type": "code",
      "execution_count": 22,
      "metadata": {
        "id": "Bu2NP74kMsRD",
        "colab": {
          "base_uri": "https://localhost:8080/"
        },
        "outputId": "c8734957-6983-44f5-980c-9df674063780"
      },
      "outputs": [
        {
          "output_type": "execute_result",
          "data": {
            "text/plain": [
              "0        1\n",
              "1        1\n",
              "2        1\n",
              "3        1\n",
              "4        1\n",
              "        ..\n",
              "7622     1\n",
              "7623     1\n",
              "7624     1\n",
              "7625     1\n",
              "7626    17\n",
              "Name: type, Length: 7326, dtype: int8"
            ]
          },
          "metadata": {},
          "execution_count": 22
        }
      ],
      "source": [
        "# convert the data type of type from object to catecory and encode it \n",
        "df_train['type'] = df_train['type'].astype('category').cat.codes\n",
        "# Show the type feature\n",
        "df_train['type']"
      ]
    },
    {
      "cell_type": "code",
      "execution_count": 23,
      "metadata": {
        "id": "snSYDlAIMzsn",
        "colab": {
          "base_uri": "https://localhost:8080/",
          "height": 49,
          "referenced_widgets": [
            "32d956073b664659aefe9c9093337725",
            "bab0c243b2874981a743230086cffc26",
            "e06bb024748f4a06aca277fd8dcb356f",
            "d36518d1479a41b6803f34e75d566d19",
            "32e5ec9fffbc4792976898f22ca100f1",
            "d4bb8534662f46e5878221e121c18cc8",
            "bd4f2cbac1284ee198ec0e8a92b0ac74",
            "fd8cddcca028400b892093d7f3432e16",
            "28b052cf51174b86bd607aaceb21a5f5",
            "d6d88add2a7f4e98875cf68b38ec2836",
            "e39690023fd0460e850f10c4a0e6126d"
          ]
        },
        "outputId": "7b5c88b8-149f-41fe-86e0-b2b69ccd8b7e"
      },
      "outputs": [
        {
          "output_type": "display_data",
          "data": {
            "text/plain": [
              "  0%|          | 0/7326 [00:00<?, ?it/s]"
            ],
            "application/vnd.jupyter.widget-view+json": {
              "version_major": 2,
              "version_minor": 0,
              "model_id": "32d956073b664659aefe9c9093337725"
            }
          },
          "metadata": {}
        }
      ],
      "source": [
        "# loading images:\n",
        "x_train_image = np.array([load_image(i) for i in tqdm(df_train.image)])\n",
        "\n",
        "# loading summary_clean: (force convert some of the non-string cell to string)\n",
        "x_train_text = df_train['summary_clean'].astype('str')"
      ]
    },
    {
      "cell_type": "code",
      "execution_count": 24,
      "metadata": {
        "id": "W9dzmNRXN23e",
        "colab": {
          "base_uri": "https://localhost:8080/"
        },
        "outputId": "75447472-f651-42a7-82e3-4bc146a52f78"
      },
      "outputs": [
        {
          "output_type": "execute_result",
          "data": {
            "text/plain": [
              "(7326, 64, 64, 2)"
            ]
          },
          "metadata": {},
          "execution_count": 24
        }
      ],
      "source": [
        "# Display the image of shape in teaining data \n",
        "x_train_image.shape"
      ]
    },
    {
      "cell_type": "code",
      "execution_count": 25,
      "metadata": {
        "id": "nCgTuAiuN4qy"
      },
      "outputs": [],
      "source": [
        "\n",
        "# Set values\n",
        "num_words = 100000\n",
        "max_len = 400"
      ]
    },
    {
      "cell_type": "code",
      "execution_count": 26,
      "metadata": {
        "id": "bP0x1u_CN8Ou"
      },
      "outputs": [],
      "source": [
        "# build vocabulary from training set\n",
        "tokenizer = Tokenizer(num_words = num_words)\n",
        "tokenizer.fit_on_texts(x_train_text)\n",
        "     "
      ]
    },
    {
      "cell_type": "code",
      "execution_count": 27,
      "metadata": {
        "id": "Ac7vMkgyODU3"
      },
      "outputs": [],
      "source": [
        "\n",
        "# padding is done inside: \n",
        "x_train_text_id = _preprocess(x_train_text)"
      ]
    },
    {
      "cell_type": "code",
      "execution_count": 28,
      "metadata": {
        "id": "uqxIWV6pOflr",
        "colab": {
          "base_uri": "https://localhost:8080/"
        },
        "outputId": "0803ad4a-4b5c-4825-b92f-74490bd90f37"
      },
      "outputs": [
        {
          "output_type": "execute_result",
          "data": {
            "text/plain": [
              "(7326, 400)"
            ]
          },
          "metadata": {},
          "execution_count": 28
        }
      ],
      "source": [
        "\n",
        "# Show the shape of summary of training data\n",
        "x_train_text_id.shape"
      ]
    },
    {
      "cell_type": "code",
      "execution_count": 29,
      "metadata": {
        "id": "OdeoHAIBOidI",
        "colab": {
          "base_uri": "https://localhost:8080/"
        },
        "outputId": "ec3524c4-3f83-4dfb-9254-e92fc07f164a"
      },
      "outputs": [
        {
          "output_type": "execute_result",
          "data": {
            "text/plain": [
              "['spacious sunni cozi modern apart heart montreal bedroom central locat popular plateau mont royal neighborhood middl princ arthur pedestrian street close amen restaur coffe hous bar club shop univers subway station experi montreal like real local resid heart action grand prix week grill saint laurent festiv mural much']"
            ]
          },
          "metadata": {},
          "execution_count": 29
        }
      ],
      "source": [
        "# we can use the tokenizer to convert IDs to words.\n",
        "tokenizer.sequences_to_texts(x_train_text_id[:1])"
      ]
    },
    {
      "cell_type": "code",
      "execution_count": 30,
      "metadata": {
        "id": "LW2QisY6OmJC",
        "colab": {
          "base_uri": "https://localhost:8080/",
          "height": 442
        },
        "outputId": "2126cca5-63f9-4304-d4c2-a252f86f1869"
      },
      "outputs": [
        {
          "output_type": "execute_result",
          "data": {
            "text/plain": [
              "<Axes: >"
            ]
          },
          "metadata": {},
          "execution_count": 30
        },
        {
          "output_type": "display_data",
          "data": {
            "text/plain": [
              "<Figure size 640x480 with 1 Axes>"
            ],
            "image/png": "[encoded data removed]"
          },
          "metadata": {}
        }
      ],
      "source": [
        "\n",
        "#show the count value in graph of price in trining data\n",
        "df_train.price.value_counts().plot.bar()"
      ]
    },
    {
      "cell_type": "code",
      "execution_count": 31,
      "metadata": {
        "id": "fqt7GbbrOqLW",
        "colab": {
          "base_uri": "https://localhost:8080/",
          "height": 451
        },
        "outputId": "46261e6e-4429-49bf-b3a8-92518b0909ff"
      },
      "outputs": [
        {
          "output_type": "execute_result",
          "data": {
            "text/plain": [
              "<Axes: >"
            ]
          },
          "metadata": {},
          "execution_count": 31
        },
        {
          "output_type": "display_data",
          "data": {
            "text/plain": [
              "<Figure size 640x480 with 1 Axes>"
            ],
            "image/png": "[encoded data removed]"
          },
          "metadata": {}
        }
      ],
      "source": [
        "\n",
        "#show the count value in graph of type in training data\n",
        "df_train['type'].value_counts().plot.bar()"
      ]
    },
    {
      "cell_type": "code",
      "execution_count": 32,
      "metadata": {
        "id": "W3umaUrvOuLD"
      },
      "outputs": [],
      "source": [
        "# set the length of type and price in training and testing data\n",
        "len_type = len(df_train['type'].unique())\n",
        "len_price = len(df_train.price.unique())"
      ]
    },
    {
      "cell_type": "code",
      "execution_count": 33,
      "metadata": {
        "id": "6WKUWdW0OzUM",
        "colab": {
          "base_uri": "https://localhost:8080/",
          "height": 49,
          "referenced_widgets": [
            "9d20da59098e44188158e72828899262",
            "fe4e2618e1794a6cbe017275908ce5cd",
            "7ebfe345e8854c0c808226328ed663f0",
            "8547543a423a415793c6c0a3e02511d1",
            "9eaec716d4814a0c8e035c66c412f35c",
            "783b5dc59acd4d1089bc74798bb3f48a",
            "52d0693410454a42b4928025f1b8eb95",
            "a2cf0c52f67f44188b7ebfcab6831fe8",
            "51646633994243818cbd23372e0e61f6",
            "17e1b50d79fd40adb14a530e8faf19aa",
            "efffa261dc0342289d585d3de1be0c1b"
          ]
        },
        "outputId": "58d40c33-1046-4f4e-d585-7bbd0f13e9a2"
      },
      "outputs": [
        {
          "output_type": "display_data",
          "data": {
            "text/plain": [
              "  0%|          | 0/7360 [00:00<?, ?it/s]"
            ],
            "application/vnd.jupyter.widget-view+json": {
              "version_major": 2,
              "version_minor": 0,
              "model_id": "9d20da59098e44188158e72828899262"
            }
          },
          "metadata": {}
        }
      ],
      "source": [
        "# loading images:\n",
        "x_test_image = np.array([load_image(i) for i in tqdm(df_test.image)])\n",
        "\n",
        "# loading overview: (force convert some of the non-string cell to string)\n",
        "x_test_text = _preprocess(df_test['summary_clean'].astype('str'))"
      ]
    },
    {
      "cell_type": "markdown",
      "source": [
        "### **1- Convolutional Layer with Embedding layer, Multi-modality and Multi-task**"
      ],
      "metadata": {
        "id": "7ynLGOyw93c0"
      }
    },
    {
      "cell_type": "code",
      "execution_count": null,
      "metadata": {
        "colab": {
          "base_uri": "https://localhost:8080/"
        },
        "id": "KTEqg_BCO2H8",
        "outputId": "bfd12986-9ae0-4225-c26d-b4d8c450cb90"
      },
      "outputs": [
        {
          "name": "stdout",
          "output_type": "stream",
          "text": [
            "Model: \"model\"\n",
            "__________________________________________________________________________________________________\n",
            " Layer (type)                   Output Shape         Param #     Connected to                     \n",
            "==================================================================================================\n",
            " input_2 (InputLayer)           [(None, 64, 64, 2)]  0           []                               \n",
            "                                                                                                  \n",
            " conv2d (Conv2D)                (None, 49, 49, 32)   16416       ['input_2[0][0]']                \n",
            "                                                                                                  \n",
            " max_pooling2d (MaxPooling2D)   (None, 3, 3, 32)     0           ['conv2d[0][0]']                 \n",
            "                                                                                                  \n",
            " input_1 (InputLayer)           [(None, 400)]        0           []                               \n",
            "                                                                                                  \n",
            " conv2d_1 (Conv2D)              (None, 2, 2, 32)     4128        ['max_pooling2d[0][0]']          \n",
            "                                                                                                  \n",
            " embedding (Embedding)          (None, 400, 400)     40000000    ['input_1[0][0]']                \n",
            "                                                                                                  \n",
            " max_pooling2d_1 (MaxPooling2D)  (None, 1, 1, 32)    0           ['conv2d_1[0][0]']               \n",
            "                                                                                                  \n",
            " tf.math.reduce_mean (TFOpLambd  (None, 400)         0           ['embedding[0][0]']              \n",
            " a)                                                                                               \n",
            "                                                                                                  \n",
            " flatten (Flatten)              (None, 32)           0           ['max_pooling2d_1[0][0]']        \n",
            "                                                                                                  \n",
            " tf.concat (TFOpLambda)         (None, 432)          0           ['tf.math.reduce_mean[0][0]',    \n",
            "                                                                  'flatten[0][0]']                \n",
            "                                                                                                  \n",
            " price (Dense)                  (None, 3)            1299        ['tf.concat[0][0]']              \n",
            "                                                                                                  \n",
            " type (Dense)                   (None, 24)           10392       ['tf.concat[0][0]']              \n",
            "                                                                                                  \n",
            "==================================================================================================\n",
            "Total params: 40,032,235\n",
            "Trainable params: 40,032,235\n",
            "Non-trainable params: 0\n",
            "__________________________________________________________________________________________________\n",
            "None\n",
            "Epoch 1/50\n",
            "367/367 [==============================] - 405s 1s/step - loss: 1.0109 - price_loss: 0.8506 - type_loss: 1.1713 - price_sparse_categorical_accuracy: 0.6172 - type_sparse_categorical_accuracy: 0.7510 - val_loss: 0.8922 - val_price_loss: 0.8215 - val_type_loss: 0.9630 - val_price_sparse_categorical_accuracy: 0.6241 - val_type_sparse_categorical_accuracy: 0.7688\n",
            "Epoch 2/50\n",
            "367/367 [==============================] - 387s 1s/step - loss: 0.9135 - price_loss: 0.8244 - type_loss: 1.0025 - price_sparse_categorical_accuracy: 0.6191 - type_sparse_categorical_accuracy: 0.7560 - val_loss: 0.8839 - val_price_loss: 0.8200 - val_type_loss: 0.9477 - val_price_sparse_categorical_accuracy: 0.6385 - val_type_sparse_categorical_accuracy: 0.7688\n",
            "Epoch 3/50\n",
            "367/367 [==============================] - 384s 1s/step - loss: 0.8913 - price_loss: 0.7966 - type_loss: 0.9860 - price_sparse_categorical_accuracy: 0.6304 - type_sparse_categorical_accuracy: 0.7560 - val_loss: 0.8561 - val_price_loss: 0.7749 - val_type_loss: 0.9373 - val_price_sparse_categorical_accuracy: 0.6467 - val_type_sparse_categorical_accuracy: 0.7688\n",
            "Epoch 4/50\n",
            "367/367 [==============================] - 388s 1s/step - loss: 0.8595 - price_loss: 0.7595 - type_loss: 0.9594 - price_sparse_categorical_accuracy: 0.6599 - type_sparse_categorical_accuracy: 0.7560 - val_loss: 0.8246 - val_price_loss: 0.7426 - val_type_loss: 0.9067 - val_price_sparse_categorical_accuracy: 0.6685 - val_type_sparse_categorical_accuracy: 0.7688\n",
            "Epoch 5/50\n",
            "367/367 [==============================] - 384s 1s/step - loss: 0.8263 - price_loss: 0.7249 - type_loss: 0.9277 - price_sparse_categorical_accuracy: 0.6787 - type_sparse_categorical_accuracy: 0.7560 - val_loss: 0.8062 - val_price_loss: 0.7229 - val_type_loss: 0.8894 - val_price_sparse_categorical_accuracy: 0.6712 - val_type_sparse_categorical_accuracy: 0.7688\n",
            "Epoch 6/50\n",
            "367/367 [==============================] - 386s 1s/step - loss: 0.7956 - price_loss: 0.7006 - type_loss: 0.8905 - price_sparse_categorical_accuracy: 0.6891 - type_sparse_categorical_accuracy: 0.7573 - val_loss: 0.7841 - val_price_loss: 0.7112 - val_type_loss: 0.8571 - val_price_sparse_categorical_accuracy: 0.6787 - val_type_sparse_categorical_accuracy: 0.7708\n",
            "Epoch 7/50\n",
            "367/367 [==============================] - 384s 1s/step - loss: 0.7666 - price_loss: 0.6789 - type_loss: 0.8544 - price_sparse_categorical_accuracy: 0.7087 - type_sparse_categorical_accuracy: 0.7608 - val_loss: 0.7793 - val_price_loss: 0.7093 - val_type_loss: 0.8494 - val_price_sparse_categorical_accuracy: 0.6787 - val_type_sparse_categorical_accuracy: 0.7756\n",
            "Epoch 8/50\n",
            "367/367 [==============================] - 382s 1s/step - loss: 0.7427 - price_loss: 0.6609 - type_loss: 0.8245 - price_sparse_categorical_accuracy: 0.7196 - type_sparse_categorical_accuracy: 0.7643 - val_loss: 0.7591 - val_price_loss: 0.6984 - val_type_loss: 0.8197 - val_price_sparse_categorical_accuracy: 0.6746 - val_type_sparse_categorical_accuracy: 0.7756\n",
            "Epoch 9/50\n",
            "367/367 [==============================] - 384s 1s/step - loss: 0.7189 - price_loss: 0.6458 - type_loss: 0.7920 - price_sparse_categorical_accuracy: 0.7224 - type_sparse_categorical_accuracy: 0.7720 - val_loss: 0.7497 - val_price_loss: 0.6977 - val_type_loss: 0.8017 - val_price_sparse_categorical_accuracy: 0.6780 - val_type_sparse_categorical_accuracy: 0.7797\n",
            "Epoch 10/50\n",
            "367/367 [==============================] - 385s 1s/step - loss: 0.6978 - price_loss: 0.6307 - type_loss: 0.7650 - price_sparse_categorical_accuracy: 0.7336 - type_sparse_categorical_accuracy: 0.7819 - val_loss: 0.7411 - val_price_loss: 0.6940 - val_type_loss: 0.7883 - val_price_sparse_categorical_accuracy: 0.6774 - val_type_sparse_categorical_accuracy: 0.7824\n",
            "Epoch 11/50\n",
            "367/367 [==============================] - 385s 1s/step - loss: 0.6772 - price_loss: 0.6165 - type_loss: 0.7379 - price_sparse_categorical_accuracy: 0.7416 - type_sparse_categorical_accuracy: 0.7860 - val_loss: 0.7346 - val_price_loss: 0.6959 - val_type_loss: 0.7733 - val_price_sparse_categorical_accuracy: 0.6774 - val_type_sparse_categorical_accuracy: 0.7858\n",
            "Epoch 12/50\n",
            "367/367 [==============================] - 385s 1s/step - loss: 0.6595 - price_loss: 0.6052 - type_loss: 0.7138 - price_sparse_categorical_accuracy: 0.7469 - type_sparse_categorical_accuracy: 0.7918 - val_loss: 0.7342 - val_price_loss: 0.7025 - val_type_loss: 0.7660 - val_price_sparse_categorical_accuracy: 0.6821 - val_type_sparse_categorical_accuracy: 0.7838\n",
            "Epoch 13/50\n",
            "367/367 [==============================] - 386s 1s/step - loss: 0.6415 - price_loss: 0.5944 - type_loss: 0.6887 - price_sparse_categorical_accuracy: 0.7507 - type_sparse_categorical_accuracy: 0.7991 - val_loss: 0.7309 - val_price_loss: 0.7003 - val_type_loss: 0.7615 - val_price_sparse_categorical_accuracy: 0.6794 - val_type_sparse_categorical_accuracy: 0.7899\n",
            "Epoch 14/50\n",
            "367/367 [==============================] - 385s 1s/step - loss: 0.6238 - price_loss: 0.5805 - type_loss: 0.6671 - price_sparse_categorical_accuracy: 0.7602 - type_sparse_categorical_accuracy: 0.8055 - val_loss: 0.7249 - val_price_loss: 0.6978 - val_type_loss: 0.7519 - val_price_sparse_categorical_accuracy: 0.6842 - val_type_sparse_categorical_accuracy: 0.7933\n",
            "Epoch 15/50\n",
            "367/367 [==============================] - 384s 1s/step - loss: 0.6077 - price_loss: 0.5688 - type_loss: 0.6465 - price_sparse_categorical_accuracy: 0.7657 - type_sparse_categorical_accuracy: 0.8118 - val_loss: 0.7316 - val_price_loss: 0.7090 - val_type_loss: 0.7541 - val_price_sparse_categorical_accuracy: 0.6774 - val_type_sparse_categorical_accuracy: 0.7926\n",
            "Epoch 16/50\n",
            "367/367 [==============================] - 385s 1s/step - loss: 0.5920 - price_loss: 0.5597 - type_loss: 0.6244 - price_sparse_categorical_accuracy: 0.7674 - type_sparse_categorical_accuracy: 0.8195 - val_loss: 0.7250 - val_price_loss: 0.7060 - val_type_loss: 0.7441 - val_price_sparse_categorical_accuracy: 0.6753 - val_type_sparse_categorical_accuracy: 0.7920\n",
            "Epoch 17/50\n",
            "367/367 [==============================] - 386s 1s/step - loss: 0.5766 - price_loss: 0.5463 - type_loss: 0.6068 - price_sparse_categorical_accuracy: 0.7783 - type_sparse_categorical_accuracy: 0.8230 - val_loss: 0.7258 - val_price_loss: 0.7151 - val_type_loss: 0.7366 - val_price_sparse_categorical_accuracy: 0.6828 - val_type_sparse_categorical_accuracy: 0.7960\n",
            "Epoch 18/50\n",
            "367/367 [==============================] - 384s 1s/step - loss: 0.5621 - price_loss: 0.5360 - type_loss: 0.5882 - price_sparse_categorical_accuracy: 0.7858 - type_sparse_categorical_accuracy: 0.8292 - val_loss: 0.7221 - val_price_loss: 0.7127 - val_type_loss: 0.7316 - val_price_sparse_categorical_accuracy: 0.6685 - val_type_sparse_categorical_accuracy: 0.7974\n",
            "Epoch 19/50\n",
            "367/367 [==============================] - 386s 1s/step - loss: 0.5473 - price_loss: 0.5253 - type_loss: 0.5692 - price_sparse_categorical_accuracy: 0.7875 - type_sparse_categorical_accuracy: 0.8326 - val_loss: 0.7323 - val_price_loss: 0.7293 - val_type_loss: 0.7354 - val_price_sparse_categorical_accuracy: 0.6678 - val_type_sparse_categorical_accuracy: 0.7974\n",
            "Epoch 20/50\n",
            "367/367 [==============================] - 386s 1s/step - loss: 0.5334 - price_loss: 0.5151 - type_loss: 0.5516 - price_sparse_categorical_accuracy: 0.7923 - type_sparse_categorical_accuracy: 0.8391 - val_loss: 0.7270 - val_price_loss: 0.7241 - val_type_loss: 0.7300 - val_price_sparse_categorical_accuracy: 0.6705 - val_type_sparse_categorical_accuracy: 0.7974\n"
          ]
        }
      ],
      "source": [
        "in_text = keras.Input(batch_shape=(None, max_len))\n",
        "in_image = keras.Input(batch_shape=(None, 64, 64, 2))\n",
        "\n",
        "# text part\n",
        "# simple average of embedding. you can change it to anything else as needed\n",
        "embedded = keras.layers.Embedding(tokenizer.num_words, 400)(in_text)\n",
        "averaged = tf.reduce_mean(embedded, axis=1)\n",
        "\n",
        "\n",
        "# image part \n",
        "# simple conv2d. you can change it to anything else as needed\n",
        "cov = Conv2D(32, (16, 16))(in_image)\n",
        "pl = MaxPool2D((16, 16))(cov)\n",
        "\n",
        "\n",
        "cov = Conv2D(32, (2, 2))(pl)\n",
        "pl = MaxPool2D((2, 2))(cov)\n",
        "\n",
        "flattened = Flatten()(pl)\n",
        "\n",
        "\n",
        "# fusion - combinig both\n",
        "fused = tf.concat([averaged, flattened], axis=-1)\n",
        "\n",
        "# multi-task learning (each is a multi-class classification)\n",
        "# one dense layer for each task\n",
        "p_type = Dense(len_type, activation='softmax', name='type')(fused)\n",
        "p_price = Dense(len_price, activation='softmax', name='price')(fused)\n",
        "\n",
        "\n",
        "# define model input/output using keys.\n",
        "model = keras.Model(\n",
        "    inputs={\n",
        "        'summary': in_text,\n",
        "        'image': in_image\n",
        "    },\n",
        "    outputs={\n",
        "        'type': p_type,\n",
        "        'price': p_price,\n",
        "    },\n",
        ")\n",
        "\n",
        "\n",
        "\n",
        "# compile model with optimizer, loss values for each task, loss \n",
        "# weights for each task.\n",
        "model.compile(\n",
        "    optimizer=Adam(),\n",
        "    loss={\n",
        "        'type': 'sparse_categorical_crossentropy',\n",
        "        'price': 'sparse_categorical_crossentropy',\n",
        "    },\n",
        "    loss_weights={\n",
        "        'type': 0.5,\n",
        "        'price': 0.5,       \n",
        "    },\n",
        "    metrics={\n",
        "        'type': ['SparseCategoricalAccuracy'],\n",
        "        'price': ['SparseCategoricalAccuracy'],\n",
        "    },\n",
        ")\n",
        "\n",
        "# show the summary of the architecture model\n",
        "print(model.summary())\n",
        "\n",
        "\n",
        "\n",
        "# train the model\n",
        "history = model.fit(\n",
        "    x={\n",
        "        'summary': x_train_text_id,\n",
        "        'image': x_train_image\n",
        "    },\n",
        "    y={\n",
        "        'type': df_train['type'],\n",
        "        'price': df_train.price\n",
        "    },\n",
        "    epochs=50,\n",
        "    batch_size=16,\n",
        "    validation_split=0.2,\n",
        "    callbacks=[\n",
        "        tf.keras.callbacks.EarlyStopping(monitor='val_price_loss', patience=10, )\n",
        "    ],\n",
        "    verbose=1\n",
        ")"
      ]
    },
    {
      "cell_type": "code",
      "execution_count": null,
      "metadata": {
        "colab": {
          "base_uri": "https://localhost:8080/",
          "height": 885
        },
        "id": "0aTDKtvbPK6O",
        "outputId": "6b96a908-6423-48b6-9f91-cdfbdb2bfb9e"
      },
      "outputs": [
        {
          "data": {
            "image/png": "[encoded data removed]",
            "text/plain": [
              "<Figure size 640x480 with 1 Axes>"
            ]
          },
          "metadata": {},
          "output_type": "display_data"
        },
        {
          "data": {
            "image/png": "[encoded data removed]",
            "text/plain": [
              "<Figure size 640x480 with 1 Axes>"
            ]
          },
          "metadata": {},
          "output_type": "display_data"
        }
      ],
      "source": [
        "# display the lass and val_loss from training model \n",
        "plot_graphs(history, \"loss\")\n",
        "# display the price_Accuracy and val_price_Accuracy from training model \n",
        "plot_graphs(history, \"price_sparse_categorical_accuracy\")"
      ]
    },
    {
      "cell_type": "code",
      "execution_count": null,
      "metadata": {
        "colab": {
          "base_uri": "https://localhost:8080/"
        },
        "id": "gAgG_t5dPQhp",
        "outputId": "7fba95ae-d575-4ce7-ffed-ff56e91d54c4"
      },
      "outputs": [
        {
          "name": "stdout",
          "output_type": "stream",
          "text": [
            "230/230 [==============================] - 17s 73ms/step\n"
          ]
        }
      ],
      "source": [
        "# we can do prediction on testing set using the predict_save_csv function and it will predict the testing data and save it in the csv file\n",
        "predict_save_csv(model, '_Model_1_651')"
      ]
    },
    {
      "cell_type": "markdown",
      "source": [
        "### **2-Convolutional layer with Dropout**\n",
        "\n",
        "\n",
        "\n"
      ],
      "metadata": {
        "id": "Ml94kEoH-YoQ"
      }
    },
    {
      "cell_type": "code",
      "execution_count": null,
      "metadata": {
        "colab": {
          "background_save": true,
          "base_uri": "https://localhost:8080/"
        },
        "id": "orWnSrmrTJ5M",
        "outputId": "221ea1aa-a852-4be9-dac5-4cc6e7f41b6f"
      },
      "outputs": [
        {
          "name": "stdout",
          "output_type": "stream",
          "text": [
            "Model: \"model_1\"\n",
            "__________________________________________________________________________________________________\n",
            " Layer (type)                   Output Shape         Param #     Connected to                     \n",
            "==================================================================================================\n",
            " input_4 (InputLayer)           [(None, 64, 64, 2)]  0           []                               \n",
            "                                                                                                  \n",
            " conv2d_2 (Conv2D)              (None, 49, 49, 32)   16416       ['input_4[0][0]']                \n",
            "                                                                                                  \n",
            " max_pooling2d_2 (MaxPooling2D)  (None, 3, 3, 32)    0           ['conv2d_2[0][0]']               \n",
            "                                                                                                  \n",
            " dropout_2 (Dropout)            (None, 3, 3, 32)     0           ['max_pooling2d_2[0][0]']        \n",
            "                                                                                                  \n",
            " conv2d_3 (Conv2D)              (None, 2, 2, 64)     8256        ['dropout_2[0][0]']              \n",
            "                                                                                                  \n",
            " input_3 (InputLayer)           [(None, 400)]        0           []                               \n",
            "                                                                                                  \n",
            " max_pooling2d_3 (MaxPooling2D)  (None, 1, 1, 64)    0           ['conv2d_3[0][0]']               \n",
            "                                                                                                  \n",
            " embedding_1 (Embedding)        (None, 400, 400)     40000000    ['input_3[0][0]']                \n",
            "                                                                                                  \n",
            " dropout_3 (Dropout)            (None, 1, 1, 64)     0           ['max_pooling2d_3[0][0]']        \n",
            "                                                                                                  \n",
            " tf.math.reduce_mean_1 (TFOpLam  (None, 400)         0           ['embedding_1[0][0]']            \n",
            " bda)                                                                                             \n",
            "                                                                                                  \n",
            " flatten_1 (Flatten)            (None, 64)           0           ['dropout_3[0][0]']              \n",
            "                                                                                                  \n",
            " tf.concat_1 (TFOpLambda)       (None, 464)          0           ['tf.math.reduce_mean_1[0][0]',  \n",
            "                                                                  'flatten_1[0][0]']              \n",
            "                                                                                                  \n",
            " price (Dense)                  (None, 3)            1395        ['tf.concat_1[0][0]']            \n",
            "                                                                                                  \n",
            " type (Dense)                   (None, 24)           11160       ['tf.concat_1[0][0]']            \n",
            "                                                                                                  \n",
            "==================================================================================================\n",
            "Total params: 40,037,227\n",
            "Trainable params: 40,037,227\n",
            "Non-trainable params: 0\n",
            "__________________________________________________________________________________________________\n",
            "None\n",
            "Epoch 1/50\n",
            "367/367 [==============================] - 455s 1s/step - loss: 1.0031 - price_loss: 0.8524 - type_loss: 1.1538 - price_sparse_categorical_accuracy: 0.6164 - type_sparse_categorical_accuracy: 0.7556 - val_loss: 0.8940 - val_price_loss: 0.8249 - val_type_loss: 0.9631 - val_price_sparse_categorical_accuracy: 0.6241 - val_type_sparse_categorical_accuracy: 0.7688\n",
            "Epoch 2/50\n",
            "367/367 [==============================] - 413s 1s/step - loss: 0.9147 - price_loss: 0.8256 - type_loss: 1.0038 - price_sparse_categorical_accuracy: 0.6198 - type_sparse_categorical_accuracy: 0.7560 - val_loss: 0.8807 - val_price_loss: 0.8056 - val_type_loss: 0.9557 - val_price_sparse_categorical_accuracy: 0.6241 - val_type_sparse_categorical_accuracy: 0.7688\n",
            "Epoch 3/50\n",
            "367/367 [==============================] - 410s 1s/step - loss: 0.8899 - price_loss: 0.7932 - type_loss: 0.9867 - price_sparse_categorical_accuracy: 0.6297 - type_sparse_categorical_accuracy: 0.7560 - val_loss: 0.8526 - val_price_loss: 0.7722 - val_type_loss: 0.9331 - val_price_sparse_categorical_accuracy: 0.6419 - val_type_sparse_categorical_accuracy: 0.7688\n",
            "Epoch 4/50\n",
            "367/367 [==============================] - 405s 1s/step - loss: 0.8553 - price_loss: 0.7541 - type_loss: 0.9565 - price_sparse_categorical_accuracy: 0.6584 - type_sparse_categorical_accuracy: 0.7560 - val_loss: 0.8263 - val_price_loss: 0.7465 - val_type_loss: 0.9061 - val_price_sparse_categorical_accuracy: 0.6535 - val_type_sparse_categorical_accuracy: 0.7688\n",
            "Epoch 5/50\n",
            "367/367 [==============================] - 413s 1s/step - loss: 0.8215 - price_loss: 0.7206 - type_loss: 0.9225 - price_sparse_categorical_accuracy: 0.6821 - type_sparse_categorical_accuracy: 0.7561 - val_loss: 0.8036 - val_price_loss: 0.7206 - val_type_loss: 0.8865 - val_price_sparse_categorical_accuracy: 0.6774 - val_type_sparse_categorical_accuracy: 0.7708\n",
            "Epoch 6/50\n",
            "367/367 [==============================] - 414s 1s/step - loss: 0.7913 - price_loss: 0.6967 - type_loss: 0.8860 - price_sparse_categorical_accuracy: 0.6949 - type_sparse_categorical_accuracy: 0.7578 - val_loss: 0.7830 - val_price_loss: 0.7091 - val_type_loss: 0.8569 - val_price_sparse_categorical_accuracy: 0.6760 - val_type_sparse_categorical_accuracy: 0.7715\n",
            "Epoch 7/50\n",
            "367/367 [==============================] - 404s 1s/step - loss: 0.7625 - price_loss: 0.6748 - type_loss: 0.8502 - price_sparse_categorical_accuracy: 0.7065 - type_sparse_categorical_accuracy: 0.7611 - val_loss: 0.7686 - val_price_loss: 0.7054 - val_type_loss: 0.8319 - val_price_sparse_categorical_accuracy: 0.6821 - val_type_sparse_categorical_accuracy: 0.7735\n",
            "Epoch 8/50\n",
            "367/367 [==============================] - 406s 1s/step - loss: 0.7366 - price_loss: 0.6576 - type_loss: 0.8156 - price_sparse_categorical_accuracy: 0.7176 - type_sparse_categorical_accuracy: 0.7662 - val_loss: 0.7545 - val_price_loss: 0.6959 - val_type_loss: 0.8130 - val_price_sparse_categorical_accuracy: 0.6767 - val_type_sparse_categorical_accuracy: 0.7797\n",
            "Epoch 9/50\n",
            "367/367 [==============================] - 403s 1s/step - loss: 0.7130 - price_loss: 0.6417 - type_loss: 0.7843 - price_sparse_categorical_accuracy: 0.7247 - type_sparse_categorical_accuracy: 0.7751 - val_loss: 0.7494 - val_price_loss: 0.6993 - val_type_loss: 0.7995 - val_price_sparse_categorical_accuracy: 0.6780 - val_type_sparse_categorical_accuracy: 0.7824\n",
            "Epoch 10/50\n",
            "367/367 [==============================] - 404s 1s/step - loss: 0.6911 - price_loss: 0.6271 - type_loss: 0.7552 - price_sparse_categorical_accuracy: 0.7346 - type_sparse_categorical_accuracy: 0.7812 - val_loss: 0.7393 - val_price_loss: 0.6931 - val_type_loss: 0.7855 - val_price_sparse_categorical_accuracy: 0.6801 - val_type_sparse_categorical_accuracy: 0.7831\n",
            "Epoch 11/50\n",
            "367/367 [==============================] - 403s 1s/step - loss: 0.6714 - price_loss: 0.6129 - type_loss: 0.7299 - price_sparse_categorical_accuracy: 0.7428 - type_sparse_categorical_accuracy: 0.7882 - val_loss: 0.7440 - val_price_loss: 0.6973 - val_type_loss: 0.7906 - val_price_sparse_categorical_accuracy: 0.6767 - val_type_sparse_categorical_accuracy: 0.7879\n",
            "Epoch 12/50\n",
            "367/367 [==============================] - 404s 1s/step - loss: 0.6563 - price_loss: 0.6060 - type_loss: 0.7065 - price_sparse_categorical_accuracy: 0.7440 - type_sparse_categorical_accuracy: 0.7937 - val_loss: 0.7336 - val_price_loss: 0.7016 - val_type_loss: 0.7656 - val_price_sparse_categorical_accuracy: 0.6808 - val_type_sparse_categorical_accuracy: 0.7892\n",
            "Epoch 13/50\n",
            "367/367 [==============================] - 402s 1s/step - loss: 0.6358 - price_loss: 0.5874 - type_loss: 0.6842 - price_sparse_categorical_accuracy: 0.7558 - type_sparse_categorical_accuracy: 0.8007 - val_loss: 0.7265 - val_price_loss: 0.6947 - val_type_loss: 0.7583 - val_price_sparse_categorical_accuracy: 0.6801 - val_type_sparse_categorical_accuracy: 0.7892\n",
            "Epoch 14/50\n",
            "367/367 [==============================] - 403s 1s/step - loss: 0.6187 - price_loss: 0.5767 - type_loss: 0.6606 - price_sparse_categorical_accuracy: 0.7585 - type_sparse_categorical_accuracy: 0.8077 - val_loss: 0.7339 - val_price_loss: 0.7007 - val_type_loss: 0.7670 - val_price_sparse_categorical_accuracy: 0.6814 - val_type_sparse_categorical_accuracy: 0.7892\n",
            "Epoch 15/50\n",
            "367/367 [==============================] - 402s 1s/step - loss: 0.6008 - price_loss: 0.5637 - type_loss: 0.6380 - price_sparse_categorical_accuracy: 0.7677 - type_sparse_categorical_accuracy: 0.8145 - val_loss: 0.7337 - val_price_loss: 0.7016 - val_type_loss: 0.7659 - val_price_sparse_categorical_accuracy: 0.6767 - val_type_sparse_categorical_accuracy: 0.7906\n",
            "Epoch 16/50\n",
            "367/367 [==============================] - 402s 1s/step - loss: 0.5866 - price_loss: 0.5532 - type_loss: 0.6200 - price_sparse_categorical_accuracy: 0.7706 - type_sparse_categorical_accuracy: 0.8181 - val_loss: 0.7237 - val_price_loss: 0.7107 - val_type_loss: 0.7367 - val_price_sparse_categorical_accuracy: 0.6767 - val_type_sparse_categorical_accuracy: 0.7974\n",
            "Epoch 17/50\n",
            "367/367 [==============================] - 408s 1s/step - loss: 0.5718 - price_loss: 0.5456 - type_loss: 0.5981 - price_sparse_categorical_accuracy: 0.7724 - type_sparse_categorical_accuracy: 0.8258 - val_loss: 0.7279 - val_price_loss: 0.7181 - val_type_loss: 0.7377 - val_price_sparse_categorical_accuracy: 0.6821 - val_type_sparse_categorical_accuracy: 0.7954\n",
            "Epoch 18/50\n",
            "367/367 [==============================] - 399s 1s/step - loss: 0.5571 - price_loss: 0.5311 - type_loss: 0.5832 - price_sparse_categorical_accuracy: 0.7831 - type_sparse_categorical_accuracy: 0.8295 - val_loss: 0.7363 - val_price_loss: 0.7360 - val_type_loss: 0.7367 - val_price_sparse_categorical_accuracy: 0.6712 - val_type_sparse_categorical_accuracy: 0.7974\n",
            "Epoch 19/50\n",
            "367/367 [==============================] - 411s 1s/step - loss: 0.5427 - price_loss: 0.5207 - type_loss: 0.5648 - price_sparse_categorical_accuracy: 0.7857 - type_sparse_categorical_accuracy: 0.8348 - val_loss: 0.7238 - val_price_loss: 0.7176 - val_type_loss: 0.7301 - val_price_sparse_categorical_accuracy: 0.6692 - val_type_sparse_categorical_accuracy: 0.7974\n",
            "Epoch 20/50\n",
            "367/367 [==============================] - 407s 1s/step - loss: 0.5290 - price_loss: 0.5115 - type_loss: 0.5465 - price_sparse_categorical_accuracy: 0.7915 - type_sparse_categorical_accuracy: 0.8401 - val_loss: 0.7280 - val_price_loss: 0.7227 - val_type_loss: 0.7334 - val_price_sparse_categorical_accuracy: 0.6705 - val_type_sparse_categorical_accuracy: 0.7947\n"
          ]
        }
      ],
      "source": [
        "# here we have two inputs. one for image and the other for text.\n",
        "in_text = keras.Input(batch_shape=(None, max_len))\n",
        "in_image = keras.Input(batch_shape=(None, 64, 64, 2))\n",
        "\n",
        "# text part\n",
        "# simple average of embedding. you can change it to anything else as needed\n",
        "embedded = keras.layers.Embedding(tokenizer.num_words, 400)(in_text)\n",
        "averaged = tf.reduce_mean(embedded, axis=1)\n",
        "\n",
        "\n",
        "# image part \n",
        "# simple conv2d. you can change it to anything else as needed\n",
        "cov = Conv2D(32, (16, 16))(in_image)\n",
        "# batch_norm = BatchNormalization()(cov)\n",
        "pl = MaxPool2D((16, 16))(cov)\n",
        "\n",
        "dropout1 = Dropout(0.1)(pl)\n",
        "\n",
        "cov = Conv2D(64, (2, 2))(dropout1)\n",
        "# batch_norm = BatchNormalization()(cov)\n",
        "pl = MaxPool2D((2, 2))(cov)\n",
        "\n",
        "dropout2 = Dropout(0.1)(pl)\n",
        "\n",
        "\n",
        "# cov = Conv2D(128, (3, 3))(dropout1)\n",
        "# batch_norm = BatchNormalization()(cov)\n",
        "# pl = MaxPool2D((3, 3))(batch_norm)\n",
        "\n",
        "# dropout2 = Dropout(0.15)(pl)\n",
        "\n",
        "flattened = Flatten()(dropout2)\n",
        "\n",
        "\n",
        "# fusion - combinig both\n",
        "fused = tf.concat([averaged, flattened], axis=-1)\n",
        "\n",
        "# multi-task learning (each is a multi-class classification)\n",
        "# one dense layer for each task\n",
        "p_type = Dense(len_type, activation='softmax', name='type')(fused)\n",
        "p_price = Dense(len_price, activation='softmax', name='price')(fused)\n",
        "\n",
        "\n",
        "# define model input/output using keys.\n",
        "model = keras.Model(\n",
        "    inputs={\n",
        "        'summary': in_text,\n",
        "        'image': in_image\n",
        "    },\n",
        "    outputs={\n",
        "        'type': p_type,\n",
        "        'price': p_price,\n",
        "    },\n",
        ")\n",
        "\n",
        "\n",
        "\n",
        "# compile model with optimizer, loss values for each task, loss \n",
        "# weights for each task.\n",
        "model.compile(\n",
        "    optimizer=Adam(),\n",
        "    loss={\n",
        "        'type': 'sparse_categorical_crossentropy',\n",
        "        'price': 'sparse_categorical_crossentropy',\n",
        "    },\n",
        "    loss_weights={\n",
        "        'type': 0.5,\n",
        "        'price': 0.5,       \n",
        "    },\n",
        "    metrics={\n",
        "        'type': ['SparseCategoricalAccuracy'],\n",
        "        'price': ['SparseCategoricalAccuracy'],\n",
        "    },\n",
        ")\n",
        "\n",
        "# show the summary of the architecture model\n",
        "print(model.summary())\n",
        "\n",
        "\n",
        "\n",
        "# train the model\n",
        "history = model.fit(\n",
        "    x={\n",
        "        'summary': x_train_text_id,\n",
        "        'image': x_train_image\n",
        "    },\n",
        "    y={\n",
        "        'type': df_train['type'],\n",
        "        'price': df_train.price\n",
        "    },\n",
        "    epochs=50,\n",
        "    batch_size=16,\n",
        "    validation_split=0.2,\n",
        "    callbacks=[\n",
        "        tf.keras.callbacks.EarlyStopping(monitor='val_price_loss', patience=10, )\n",
        "    ],\n",
        "    verbose=1\n",
        ")"
      ]
    },
    {
      "cell_type": "code",
      "execution_count": null,
      "metadata": {
        "colab": {
          "background_save": true
        },
        "id": "AF5tdX-1TUmM",
        "outputId": "cf860388-9cf4-4be9-e119-9f3175efe75f"
      },
      "outputs": [
        {
          "data": {
            "image/png": "[encoded data removed]",
            "text/plain": [
              "<Figure size 640x480 with 1 Axes>"
            ]
          },
          "metadata": {},
          "output_type": "display_data"
        },
        {
          "data": {
            "image/png": "[encoded data removed]",
            "text/plain": [
              "<Figure size 640x480 with 1 Axes>"
            ]
          },
          "metadata": {},
          "output_type": "display_data"
        }
      ],
      "source": [
        "# display the lass and val_loss from training model \n",
        "plot_graphs(history, \"loss\")\n",
        "# display the price_Accuracy and val_price_Accuracy from training model \n",
        "plot_graphs(history, \"price_sparse_categorical_accuracy\")\n",
        "     "
      ]
    },
    {
      "cell_type": "code",
      "execution_count": null,
      "metadata": {
        "colab": {
          "background_save": true
        },
        "id": "cr7G_icTTV46",
        "outputId": "65f943ea-8c76-4aaa-d502-04dbc324900c"
      },
      "outputs": [
        {
          "name": "stdout",
          "output_type": "stream",
          "text": [
            "230/230 [==============================] - 19s 84ms/step\n"
          ]
        }
      ],
      "source": [
        "\n",
        "# we can do prediction on testing set using the predict_save_csv function and it will predict the testing data and save it in the csv file\n",
        "predict_save_csv(model, '_Model_2_651')"
      ]
    },
    {
      "cell_type": "markdown",
      "source": [
        "### **3-LSTM**"
      ],
      "metadata": {
        "id": "9CerCpVI_Clu"
      }
    },
    {
      "cell_type": "code",
      "execution_count": null,
      "metadata": {
        "id": "LxsHH8asTnf_",
        "colab": {
          "base_uri": "https://localhost:8080/"
        },
        "outputId": "414897d5-b6a1-4023-942b-f4a9744ff2fb"
      },
      "outputs": [
        {
          "output_type": "stream",
          "name": "stdout",
          "text": [
            "Model: \"model\"\n",
            "__________________________________________________________________________________________________\n",
            " Layer (type)                   Output Shape         Param #     Connected to                     \n",
            "==================================================================================================\n",
            " input_2 (InputLayer)           [(None, 64, 64, 2)]  0           []                               \n",
            "                                                                                                  \n",
            " conv2d (Conv2D)                (None, 49, 49, 32)   16416       ['input_2[0][0]']                \n",
            "                                                                                                  \n",
            " max_pooling2d (MaxPooling2D)   (None, 3, 3, 32)     0           ['conv2d[0][0]']                 \n",
            "                                                                                                  \n",
            " dropout (Dropout)              (None, 3, 3, 32)     0           ['max_pooling2d[0][0]']          \n",
            "                                                                                                  \n",
            " conv2d_1 (Conv2D)              (None, 2, 2, 32)     4128        ['dropout[0][0]']                \n",
            "                                                                                                  \n",
            " input_1 (InputLayer)           [(None, 400)]        0           []                               \n",
            "                                                                                                  \n",
            " max_pooling2d_1 (MaxPooling2D)  (None, 1, 1, 32)    0           ['conv2d_1[0][0]']               \n",
            "                                                                                                  \n",
            " embedding (Embedding)          (None, 400, 400)     40000000    ['input_1[0][0]']                \n",
            "                                                                                                  \n",
            " dropout_1 (Dropout)            (None, 1, 1, 32)     0           ['max_pooling2d_1[0][0]']        \n",
            "                                                                                                  \n",
            " lstm (LSTM)                    (None, 256)          672768      ['embedding[0][0]']              \n",
            "                                                                                                  \n",
            " flatten (Flatten)              (None, 32)           0           ['dropout_1[0][0]']              \n",
            "                                                                                                  \n",
            " tf.concat (TFOpLambda)         (None, 288)          0           ['lstm[0][0]',                   \n",
            "                                                                  'flatten[0][0]']                \n",
            "                                                                                                  \n",
            " price (Dense)                  (None, 3)            867         ['tf.concat[0][0]']              \n",
            "                                                                                                  \n",
            " type (Dense)                   (None, 24)           6936        ['tf.concat[0][0]']              \n",
            "                                                                                                  \n",
            "==================================================================================================\n",
            "Total params: 40,701,115\n",
            "Trainable params: 40,701,115\n",
            "Non-trainable params: 0\n",
            "__________________________________________________________________________________________________\n",
            "None\n",
            "Epoch 1/50\n",
            "367/367 [==============================] - 1117s 3s/step - loss: 3.1097 - price_loss: 0.8495 - type_loss: 3.1636 - price_sparse_categorical_accuracy: 0.6196 - type_sparse_categorical_accuracy: 0.0101 - val_loss: 1.9759 - val_price_loss: 0.8383 - val_type_loss: 3.2164 - val_price_sparse_categorical_accuracy: 0.6241 - val_type_sparse_categorical_accuracy: 0.0000e+00\n",
            "Epoch 2/50\n",
            "367/367 [==============================] - 1084s 3s/step - loss: 1.5717 - price_loss: 0.8412 - type_loss: 3.2175 - price_sparse_categorical_accuracy: 0.6196 - type_sparse_categorical_accuracy: 8.5324e-04 - val_loss: 1.2519 - val_price_loss: 0.8368 - val_type_loss: 3.2144 - val_price_sparse_categorical_accuracy: 0.6241 - val_type_sparse_categorical_accuracy: 0.0000e+00\n",
            "Epoch 3/50\n",
            "367/367 [==============================] - 1105s 3s/step - loss: 1.0859 - price_loss: 0.8433 - type_loss: 3.2001 - price_sparse_categorical_accuracy: 0.6196 - type_sparse_categorical_accuracy: 0.0019 - val_loss: 0.9521 - val_price_loss: 0.8338 - val_type_loss: 3.1940 - val_price_sparse_categorical_accuracy: 0.6241 - val_type_sparse_categorical_accuracy: 0.0000e+00\n",
            "Epoch 4/50\n",
            "367/367 [==============================] - 1095s 3s/step - loss: 0.9040 - price_loss: 0.8427 - type_loss: 3.1902 - price_sparse_categorical_accuracy: 0.6196 - type_sparse_categorical_accuracy: 0.0012 - val_loss: 0.8584 - val_price_loss: 0.8339 - val_type_loss: 3.1934 - val_price_sparse_categorical_accuracy: 0.6241 - val_type_sparse_categorical_accuracy: 0.0000e+00\n",
            "Epoch 5/50\n",
            "367/367 [==============================] - 1161s 3s/step - loss: 0.8512 - price_loss: 0.8401 - type_loss: 3.1807 - price_sparse_categorical_accuracy: 0.6196 - type_sparse_categorical_accuracy: 0.0020 - val_loss: 0.8348 - val_price_loss: 0.8312 - val_type_loss: 3.1881 - val_price_sparse_categorical_accuracy: 0.6241 - val_type_sparse_categorical_accuracy: 0.0000e+00\n",
            "Epoch 6/50\n",
            "367/367 [==============================] - 1169s 3s/step - loss: 0.8421 - price_loss: 0.8406 - type_loss: 3.1730 - price_sparse_categorical_accuracy: 0.6196 - type_sparse_categorical_accuracy: 0.0019 - val_loss: 0.8340 - val_price_loss: 0.8336 - val_type_loss: 3.1772 - val_price_sparse_categorical_accuracy: 0.6241 - val_type_sparse_categorical_accuracy: 0.0000e+00\n",
            "Epoch 7/50\n",
            "367/367 [==============================] - 1163s 3s/step - loss: 0.8411 - price_loss: 0.8408 - type_loss: 3.1703 - price_sparse_categorical_accuracy: 0.6196 - type_sparse_categorical_accuracy: 0.0014 - val_loss: 0.8303 - val_price_loss: 0.8301 - val_type_loss: 3.1780 - val_price_sparse_categorical_accuracy: 0.6241 - val_type_sparse_categorical_accuracy: 0.0000e+00\n",
            "Epoch 8/50\n",
            "367/367 [==============================] - 1103s 3s/step - loss: 0.8422 - price_loss: 0.8419 - type_loss: 3.1570 - price_sparse_categorical_accuracy: 0.6196 - type_sparse_categorical_accuracy: 0.0039 - val_loss: 0.8331 - val_price_loss: 0.8329 - val_type_loss: 3.1709 - val_price_sparse_categorical_accuracy: 0.6241 - val_type_sparse_categorical_accuracy: 0.0000e+00\n",
            "Epoch 9/50\n",
            "367/367 [==============================] - 1093s 3s/step - loss: 0.8409 - price_loss: 0.8407 - type_loss: 3.1505 - price_sparse_categorical_accuracy: 0.6196 - type_sparse_categorical_accuracy: 0.0049 - val_loss: 0.8299 - val_price_loss: 0.8296 - val_type_loss: 3.1458 - val_price_sparse_categorical_accuracy: 0.6241 - val_type_sparse_categorical_accuracy: 0.0000e+00\n",
            "Epoch 10/50\n",
            "367/367 [==============================] - 1088s 3s/step - loss: 0.8401 - price_loss: 0.8399 - type_loss: 3.1315 - price_sparse_categorical_accuracy: 0.6196 - type_sparse_categorical_accuracy: 0.0068 - val_loss: 0.8314 - val_price_loss: 0.8311 - val_type_loss: 3.1380 - val_price_sparse_categorical_accuracy: 0.6241 - val_type_sparse_categorical_accuracy: 0.0000e+00\n",
            "Epoch 11/50\n",
            "367/367 [==============================] - 1124s 3s/step - loss: 0.8412 - price_loss: 0.8410 - type_loss: 3.1308 - price_sparse_categorical_accuracy: 0.6196 - type_sparse_categorical_accuracy: 0.0073 - val_loss: 0.8304 - val_price_loss: 0.8302 - val_type_loss: 3.1389 - val_price_sparse_categorical_accuracy: 0.6241 - val_type_sparse_categorical_accuracy: 0.0000e+00\n",
            "Epoch 12/50\n",
            "367/367 [==============================] - 1101s 3s/step - loss: 0.8411 - price_loss: 0.8407 - type_loss: 3.1269 - price_sparse_categorical_accuracy: 0.6196 - type_sparse_categorical_accuracy: 0.0067 - val_loss: 0.8331 - val_price_loss: 0.8326 - val_type_loss: 3.1466 - val_price_sparse_categorical_accuracy: 0.6241 - val_type_sparse_categorical_accuracy: 0.0000e+00\n",
            "Epoch 13/50\n",
            "367/367 [==============================] - 1100s 3s/step - loss: 0.8415 - price_loss: 0.8409 - type_loss: 3.1410 - price_sparse_categorical_accuracy: 0.6196 - type_sparse_categorical_accuracy: 0.0044 - val_loss: 0.8316 - val_price_loss: 0.8312 - val_type_loss: 3.1451 - val_price_sparse_categorical_accuracy: 0.6241 - val_type_sparse_categorical_accuracy: 0.0000e+00\n",
            "Epoch 14/50\n",
            "367/367 [==============================] - 1128s 3s/step - loss: 0.8407 - price_loss: 0.8403 - type_loss: 3.1200 - price_sparse_categorical_accuracy: 0.6196 - type_sparse_categorical_accuracy: 0.0077 - val_loss: 0.8303 - val_price_loss: 0.8298 - val_type_loss: 3.1230 - val_price_sparse_categorical_accuracy: 0.6241 - val_type_sparse_categorical_accuracy: 0.0000e+00\n",
            "Epoch 15/50\n",
            "367/367 [==============================] - 1148s 3s/step - loss: 0.8400 - price_loss: 0.8397 - type_loss: 3.1211 - price_sparse_categorical_accuracy: 0.6196 - type_sparse_categorical_accuracy: 0.0104 - val_loss: 0.8298 - val_price_loss: 0.8295 - val_type_loss: 3.1342 - val_price_sparse_categorical_accuracy: 0.6241 - val_type_sparse_categorical_accuracy: 0.0000e+00\n",
            "Epoch 16/50\n",
            "367/367 [==============================] - 1151s 3s/step - loss: 0.8413 - price_loss: 0.8408 - type_loss: 3.1369 - price_sparse_categorical_accuracy: 0.6196 - type_sparse_categorical_accuracy: 0.0089 - val_loss: 0.8317 - val_price_loss: 0.8315 - val_type_loss: 3.1481 - val_price_sparse_categorical_accuracy: 0.6241 - val_type_sparse_categorical_accuracy: 0.0000e+00\n",
            "Epoch 17/50\n",
            "367/367 [==============================] - 1125s 3s/step - loss: 0.8400 - price_loss: 0.8396 - type_loss: 3.1475 - price_sparse_categorical_accuracy: 0.6196 - type_sparse_categorical_accuracy: 0.0046 - val_loss: 0.8301 - val_price_loss: 0.8299 - val_type_loss: 3.1661 - val_price_sparse_categorical_accuracy: 0.6241 - val_type_sparse_categorical_accuracy: 0.0000e+00\n",
            "Epoch 18/50\n",
            "367/367 [==============================] - 1091s 3s/step - loss: 0.8404 - price_loss: 0.8402 - type_loss: 3.1599 - price_sparse_categorical_accuracy: 0.6196 - type_sparse_categorical_accuracy: 0.0036 - val_loss: 0.8311 - val_price_loss: 0.8304 - val_type_loss: 3.1625 - val_price_sparse_categorical_accuracy: 0.6241 - val_type_sparse_categorical_accuracy: 0.0000e+00\n",
            "Epoch 19/50\n",
            "203/367 [===============>..............] - ETA: 7:50 - loss: 0.8388 - price_loss: 0.8386 - type_loss: 3.1554 - price_sparse_categorical_accuracy: 0.6195 - type_sparse_categorical_accuracy: 0.0018"
          ]
        }
      ],
      "source": [
        "from __future__ import absolute_import, division, print_function, unicode_literals\n",
        "import collections\n",
        "import matplotlib.pyplot as plt\n",
        "import numpy as np\n",
        "import tensorflow as tf\n",
        "from tensorflow import keras\n",
        "from tensorflow.keras.layers import Conv2D, Flatten, Dense, MaxPool2D,LSTM, GRU, Bidirectional\n",
        "from tensorflow.keras.optimizers import Adam\n",
        "\n",
        "\n",
        "# here we have two inputs. one for image and the other for text.\n",
        "in_text = keras.Input(batch_shape=(None, max_len))\n",
        "in_image = keras.Input(batch_shape=(None, 64, 64, 2))\n",
        "\n",
        "# text part\n",
        "# simple average of embedding. you can change it to anything else as needed\n",
        "embedded = keras.layers.Embedding(tokenizer.num_words, 400)(in_text)\n",
        "lstm = LSTM(256, activation='tanh', kernel_regularizer=regularizers.l2(0.01), recurrent_regularizer=regularizers.l2(0.01), bias_regularizer=regularizers.l2(0.01))(embedded)\n",
        "# lstm = LSTM(64, kernel_regularizer=regularizers.l2(0.02), recurrent_regularizer=regularizers.l2(0.02), bias_regularizer=regularizers.l2(0.01))(lstm)\n",
        "\n",
        "# averaged = tf.reduce_mean(embedded, axis=1)\n",
        "\n",
        "\n",
        "\n",
        "\n",
        "\n",
        "# image part \n",
        "# simple conv2d. you can change it to anything else as needed\n",
        "cov = Conv2D(32, (16, 16))(in_image)\n",
        "pl = MaxPool2D((16, 16))(cov)\n",
        "\n",
        "dropout1 = Dropout(0.2)(pl)\n",
        "\n",
        "\n",
        "cov = Conv2D(32, (2, 2))(dropout1)\n",
        "pl = MaxPool2D((2, 2))(cov)\n",
        "\n",
        "\n",
        "dropout2 = Dropout(0.2)(pl)\n",
        "\n",
        "flattened = Flatten()(dropout2)\n",
        "\n",
        "\n",
        "# fusion - combinig both\n",
        "fused = tf.concat([lstm, flattened], axis=-1)\n",
        "\n",
        "# multi-task learning (each is a multi-class classification)\n",
        "# one dense layer for each task\n",
        "p_type = Dense(len_type, activation='softmax', name='type')(fused)\n",
        "p_price = Dense(len_price, activation='softmax', name='price')(fused)\n",
        "\n",
        "\n",
        "# define model input/output using keys.\n",
        "model = keras.Model(\n",
        "    inputs={\n",
        "        'summary': in_text,\n",
        "        'image': in_image\n",
        "    },\n",
        "    outputs={\n",
        "        'type': p_type,\n",
        "        'price': p_price,\n",
        "    },\n",
        ")\n",
        "\n",
        "\n",
        "\n",
        "# compile model with optimizer, loss values for each task, loss \n",
        "# weights for each task.\n",
        "model.compile(\n",
        "    optimizer=Adam(),\n",
        "    loss={\n",
        "        'type': 'sparse_categorical_crossentropy',\n",
        "        'price': 'sparse_categorical_crossentropy',\n",
        "    },\n",
        "    loss_weights={\n",
        "        'type': 0,\n",
        "        'price': 1,       \n",
        "    },\n",
        "    metrics={\n",
        "        'type': ['SparseCategoricalAccuracy'],\n",
        "        'price': ['SparseCategoricalAccuracy'],\n",
        "    },\n",
        ")\n",
        "\n",
        "# show the summary of the architecture model\n",
        "print(model.summary())\n",
        "\n",
        "\n",
        "\n",
        "# train the model\n",
        "history = model.fit(\n",
        "    x={\n",
        "        'summary': x_train_text_id,\n",
        "        'image': x_train_image\n",
        "    },\n",
        "    y={\n",
        "        'type': df_train['type'],\n",
        "        'price': df_train.price\n",
        "    },\n",
        "    epochs=50,\n",
        "    batch_size=16,\n",
        "    validation_split=0.2,\n",
        "    callbacks=[\n",
        "        tf.keras.callbacks.EarlyStopping(monitor='val_price_loss', patience=10, )\n",
        "    ],\n",
        "    verbose=1\n",
        ")"
      ]
    },
    {
      "cell_type": "code",
      "execution_count": null,
      "metadata": {
        "id": "liqqzPvEToeH"
      },
      "outputs": [],
      "source": [
        "\n",
        "# display the lass and val_loss from training model \n",
        "plot_graphs(history, \"loss\")\n",
        "# display the price_Accuracy and val_price_Accuracy from training model \n",
        "plot_graphs(history, \"price_sparse_categorical_accuracy\")"
      ]
    },
    {
      "cell_type": "code",
      "execution_count": null,
      "metadata": {
        "id": "2ccjuuklTusd"
      },
      "outputs": [],
      "source": [
        "\n",
        "# we can do prediction on testing set using the predict_save_csv function and it will predict the testing data and save it in the csv file\n",
        "predict_save_csv(model, '_Model_3_651')"
      ]
    },
    {
      "cell_type": "markdown",
      "source": [
        "## **4-GRU layer**"
      ],
      "metadata": {
        "id": "pzJ9hEzQ_onN"
      }
    },
    {
      "cell_type": "code",
      "execution_count": null,
      "metadata": {
        "id": "LKQiJsV3TyDX"
      },
      "outputs": [],
      "source": [
        "# here we have two inputs. one for image and the other for text.\n",
        "in_text = keras.Input(batch_shape=(None, max_len))\n",
        "in_image = keras.Input(batch_shape=(None, 64, 64, 2))\n",
        "\n",
        "# text part\n",
        "# simple average of embedding. you can change it to anything else as needed\n",
        "embedded = keras.layers.Embedding(tokenizer.num_words, 400)(in_text)\n",
        "gru = GRU(512 ,kernel_regularizer=regularizers.l2(0.01), recurrent_regularizer=regularizers.l2(0.01), bias_regularizer=regularizers.l2(0.01))(embedded)\n",
        "# gru = GRU(512, kernel_regularizer=regularizers.l2(0.02), recurrent_regularizer=regularizers.l2(0.02), bias_regularizer=regularizers.l2(0.02))(gru)\n",
        "\n",
        "# averaged = tf.reduce_mean(embedded, axis=1)\n",
        "\n",
        "\n",
        "\n",
        "\n",
        "\n",
        "# image part \n",
        "# simple conv2d. you can change it to anything else as needed\n",
        "cov = Conv2D(32, (16, 16))(in_image)\n",
        "pl = MaxPool2D((16, 16))(cov)\n",
        "\n",
        "dropout1 = Dropout(0.2)(pl)\n",
        "\n",
        "\n",
        "cov = Conv2D(32, (2, 2))(dropout1)\n",
        "pl = MaxPool2D((2, 2))(cov)\n",
        "\n",
        "\n",
        "dropout2 = Dropout(0.2)(pl)\n",
        "\n",
        "flattened = Flatten()(dropout2)\n",
        "\n",
        "\n",
        "# fusion - combinig both\n",
        "fused = tf.concat([gru, flattened], axis=-1)\n",
        "\n",
        "# multi-task learning (each is a multi-class classification)\n",
        "# one dense layer for each task\n",
        "p_type = Dense(len_type, activation='softmax', name='type')(fused)\n",
        "p_price = Dense(len_price, activation='softmax', name='price')(fused)\n",
        "\n",
        "\n",
        "# define model input/output using keys.\n",
        "model = keras.Model(\n",
        "    inputs={\n",
        "        'summary': in_text,\n",
        "        'image': in_image\n",
        "    },\n",
        "    outputs={\n",
        "        'type': p_type,\n",
        "        'price': p_price,\n",
        "    },\n",
        ")\n",
        "\n",
        "\n",
        "\n",
        "# compile model with optimizer, loss values for each task, loss \n",
        "# weights for each task.\n",
        "model.compile(\n",
        "    optimizer=Adam(),\n",
        "    loss={\n",
        "        'type': 'sparse_categorical_crossentropy',\n",
        "        'price': 'sparse_categorical_crossentropy',\n",
        "    },\n",
        "    loss_weights={\n",
        "        'type': 0.5,\n",
        "        'price': 0.5,       \n",
        "    },\n",
        "    metrics={\n",
        "        'type': ['SparseCategoricalAccuracy'],\n",
        "        'price': ['SparseCategoricalAccuracy'],\n",
        "    },\n",
        ")\n",
        "\n",
        "# show the summary of the architecture model\n",
        "print(model.summary())\n",
        "\n",
        "\n",
        "\n",
        "# train the model\n",
        "history = model.fit(\n",
        "    x={\n",
        "        'summary': x_train_text_id,\n",
        "        'image': x_train_image\n",
        "    },\n",
        "    y={\n",
        "        'type': df_train['type'],\n",
        "        'price': df_train.price\n",
        "    },\n",
        "    epochs=50,\n",
        "    batch_size=16,\n",
        "    validation_split=0.2,\n",
        "    callbacks=[\n",
        "        tf.keras.callbacks.EarlyStopping(monitor='val_price_loss', patience=10, )\n",
        "    ],\n",
        "    verbose=1\n",
        ")"
      ]
    },
    {
      "cell_type": "code",
      "execution_count": null,
      "metadata": {
        "id": "gd61PmynT3JX"
      },
      "outputs": [],
      "source": [
        "# display the lass and val_loss from training model \n",
        "plot_graphs(history, \"loss\")\n",
        "# display the price_Accuracy and val_price_Accuracy from training model \n",
        "plot_graphs(history, \"price_sparse_categorical_accuracy\")"
      ]
    },
    {
      "cell_type": "code",
      "execution_count": null,
      "metadata": {
        "id": "ZyiBvVGAT66_"
      },
      "outputs": [],
      "source": [
        "\n",
        "# we can do prediction on testing set using the predict_save_csv function and it will predict the testing data and save it in the csv file\n",
        "predict_save_csv(model, '_Model_4_651')"
      ]
    },
    {
      "cell_type": "markdown",
      "source": [
        "### **5-BiDirectional layer**"
      ],
      "metadata": {
        "id": "_BiA14FzBl6V"
      }
    },
    {
      "cell_type": "code",
      "execution_count": null,
      "metadata": {
        "id": "Qsc0sCeAT-n4"
      },
      "outputs": [],
      "source": [
        "# here we have two inputs. one for image and the other for text.\n",
        "in_text = keras.Input(batch_shape=(None, max_len))\n",
        "in_image = keras.Input(batch_shape=(None, 64, 64, 2))\n",
        "\n",
        "# text part\n",
        "# simple average of embedding. you can change it to anything else as needed\n",
        "embedded = keras.layers.Embedding(tokenizer.num_words, 400)(in_text)\n",
        "bidir = Bidirectional(GRU(64 ,kernel_regularizer=regularizers.l2(0.02), recurrent_regularizer=regularizers.l2(0.02), bias_regularizer=regularizers.l2(0.02)))(embedded)\n",
        "\n",
        "# averaged = tf.reduce_mean(embedded, axis=1)\n",
        "\n",
        "\n",
        "\n",
        "\n",
        "\n",
        "# image part \n",
        "# simple conv2d. you can change it to anything else as needed\n",
        "cov = Conv2D(32, (16, 16))(in_image)\n",
        "pl = MaxPool2D((16, 16))(cov)\n",
        "\n",
        "dropout1 = Dropout(0.2)(pl)\n",
        "\n",
        "\n",
        "cov = Conv2D(32, (2, 2))(dropout1)\n",
        "pl = MaxPool2D((2, 2))(cov)\n",
        "\n",
        "\n",
        "dropout2 = Dropout(0.2)(pl)\n",
        "\n",
        "flattened = Flatten()(dropout2)\n",
        "\n",
        "\n",
        "# fusion - combinig both\n",
        "fused = tf.concat([bidir, flattened], axis=-1)\n",
        "\n",
        "# multi-task learning (each is a multi-class classification)\n",
        "# one dense layer for each task\n",
        "p_type = Dense(len_type, activation='softmax', name='type')(fused)\n",
        "p_price = Dense(len_price, activation='softmax', name='price')(fused)\n",
        "\n",
        "\n",
        "# define model input/output using keys.\n",
        "model = keras.Model(\n",
        "    inputs={\n",
        "        'summary': in_text,\n",
        "        'image': in_image\n",
        "    },\n",
        "    outputs={\n",
        "        'type': p_type,\n",
        "        'price': p_price,\n",
        "    },\n",
        ")\n",
        "\n",
        "\n",
        "\n",
        "# compile model with optimizer, loss values for each task, loss \n",
        "# weights for each task.\n",
        "model.compile(\n",
        "    optimizer=Adam(),\n",
        "    loss={\n",
        "        'type': 'sparse_categorical_crossentropy',\n",
        "        'price': 'sparse_categorical_crossentropy',\n",
        "    },\n",
        "    loss_weights={\n",
        "        'type': 0.5,\n",
        "        'price': 0.5,       \n",
        "    },\n",
        "    metrics={\n",
        "        'type': ['SparseCategoricalAccuracy'],\n",
        "        'price': ['SparseCategoricalAccuracy'],\n",
        "    },\n",
        ")\n",
        "\n",
        "# show the summary of the architecture model\n",
        "print(model.summary())\n",
        "\n",
        "\n",
        "\n",
        "# train the model\n",
        "history = model.fit(\n",
        "    x={\n",
        "        'summary': x_train_text_id,\n",
        "        'image': x_train_image\n",
        "    },\n",
        "    y={\n",
        "        'type': df_train['type'],\n",
        "        'price': df_train.price\n",
        "    },\n",
        "    epochs=50,\n",
        "    batch_size=16,\n",
        "    validation_split=0.2,\n",
        "    callbacks=[\n",
        "        tf.keras.callbacks.EarlyStopping(monitor='val_price_loss', patience=10, )\n",
        "    ],\n",
        "    verbose=1\n",
        ")"
      ]
    },
    {
      "cell_type": "code",
      "execution_count": null,
      "metadata": {
        "id": "DLBksYRwUDpc"
      },
      "outputs": [],
      "source": [
        "# display the lass and val_loss from training model \n",
        "plot_graphs(history, \"loss\")\n",
        "# display the price_Accuracy and val_price_Accuracy from training model \n",
        "plot_graphs(history, \"price_sparse_categorical_accuracy\")"
      ]
    },
    {
      "cell_type": "code",
      "execution_count": null,
      "metadata": {
        "id": "lchGobM6UHbu"
      },
      "outputs": [],
      "source": [
        "\n",
        "# we can do prediction on testing set using the predict_save_csv function and it will predict the testing data and save it in the csv file\n",
        "predict_save_csv(model, '_Model_5_651')"
      ]
    },
    {
      "cell_type": "markdown",
      "source": [
        "### **6- Convolutional Layer without Multi-task**"
      ],
      "metadata": {
        "id": "DrVThQwhBXaG"
      }
    },
    {
      "cell_type": "code",
      "source": [
        "# here we have two inputs. one for image and the other for text.\n",
        "in_text = keras.Input(batch_shape=(None, max_len))\n",
        "in_image = keras.Input(batch_shape=(None, 64, 64, 2))\n",
        "\n",
        "# text part\n",
        "# simple average of embedding. you can change it to anything else as needed\n",
        "embedded = keras.layers.Embedding(tokenizer.num_words, 400)(in_text)\n",
        "averaged = tf.reduce_mean(embedded, axis=1)\n",
        "\n",
        "\n",
        "# image part \n",
        "# simple conv2d. you can change it to anything else as needed\n",
        "cov = Conv2D(32, (16, 16),strides=(1,1), padding='same', activation='relu')(in_image)\n",
        "batch_norm = BatchNormalization()(cov)\n",
        "pl = MaxPool2D((16, 16),strides=(1,1))(batch_norm)\n",
        "\n",
        "dropout1 = Dropout(0.2)(pl)\n",
        "\n",
        "\n",
        "\n",
        "\n",
        "cov = Conv2D(64, (2, 2),strides=(1,1), padding='same', activation='relu')(dropout1)\n",
        "batch_norm = BatchNormalization()(cov)\n",
        "\n",
        "pl = MaxPool2D((2, 2),strides=(1,1))(batch_norm)\n",
        "\n",
        "dropout1 = Dropout(0.2)(pl)\n",
        "\n",
        "\n",
        "flattened = Flatten()(dropout1)\n",
        "\n",
        "# fusion - combinig both\n",
        "fused = tf.concat([averaged, flattened], axis=-1)\n",
        "\n",
        "# multi-task learning (each is a multi-class classification)\n",
        "# one dense layer for each task\n",
        "# p_type = Dense(len_type, activation='softmax', name='type')(fused)\n",
        "p_price = Dense(len_price, activation='softmax', name='price')(fused)\n",
        "\n",
        "\n",
        "# define model input/output using keys.\n",
        "model = keras.Model(\n",
        "    inputs={\n",
        "        'summary': in_text,\n",
        "        'image': in_image\n",
        "    },\n",
        "    outputs={\n",
        "        # 'type': p_type,\n",
        "        'price': p_price,\n",
        "    },\n",
        ")\n",
        "\n",
        "\n",
        "\n",
        "# compile model with optimizer, loss values for each task, loss \n",
        "# weights for each task.\n",
        "model.compile(\n",
        "    optimizer=Nadam(),\n",
        "    loss={\n",
        "        # 'type': 'sparse_categorical_crossentropy',\n",
        "        'price': 'sparse_categorical_crossentropy',\n",
        "    },\n",
        "    loss_weights={\n",
        "        # 'type': 0.5,\n",
        "        'price': 1,       \n",
        "    },\n",
        "    metrics={\n",
        "        # 'type': ['SparseCategoricalAccuracy'],\n",
        "        'price': ['SparseCategoricalAccuracy'],\n",
        "    },\n",
        ")\n",
        "\n",
        "# show the summary of the architecture model\n",
        "print(model.summary())\n",
        "\n",
        "\n",
        "\n",
        "# train the model\n",
        "history = model.fit(\n",
        "    x={\n",
        "        'summary': x_train_text_id,\n",
        "        'image': x_train_image\n",
        "    },\n",
        "    y={\n",
        "        # 'type': df_train['type'],\n",
        "        'price': df_train.price\n",
        "    },\n",
        "    epochs=30,\n",
        "    batch_size=16,\n",
        "    validation_split=0.2,\n",
        "    callbacks=[\n",
        "        tf.keras.callbacks.EarlyStopping(monitor='val_loss', patience=5, )\n",
        "    ],\n",
        "    verbose=1\n",
        ")"
      ],
      "metadata": {
        "id": "T1rdCyyPBFm-",
        "colab": {
          "base_uri": "https://localhost:8080/"
        },
        "outputId": "cf6e987a-4687-4cc9-b39a-241e66395fe5"
      },
      "execution_count": null,
      "outputs": [
        {
          "output_type": "stream",
          "name": "stdout",
          "text": [
            "Model: \"model_1\"\n",
            "__________________________________________________________________________________________________\n",
            " Layer (type)                   Output Shape         Param #     Connected to                     \n",
            "==================================================================================================\n",
            " input_3 (InputLayer)           [(None, 64, 64, 2)]  0           []                               \n",
            "                                                                                                  \n",
            " conv2d_3 (Conv2D)              (None, 64, 64, 32)   16416       ['input_3[0][0]']                \n",
            "                                                                                                  \n",
            " batch_normalization_3 (BatchNo  (None, 64, 64, 32)  128         ['conv2d_3[0][0]']               \n",
            " rmalization)                                                                                     \n",
            "                                                                                                  \n",
            " max_pooling2d_3 (MaxPooling2D)  (None, 49, 49, 32)  0           ['batch_normalization_3[0][0]']  \n",
            "                                                                                                  \n",
            " dropout_3 (Dropout)            (None, 49, 49, 32)   0           ['max_pooling2d_3[0][0]']        \n",
            "                                                                                                  \n",
            " conv2d_4 (Conv2D)              (None, 49, 49, 64)   8256        ['dropout_3[0][0]']              \n",
            "                                                                                                  \n",
            " batch_normalization_4 (BatchNo  (None, 49, 49, 64)  256         ['conv2d_4[0][0]']               \n",
            " rmalization)                                                                                     \n",
            "                                                                                                  \n",
            " input_2 (InputLayer)           [(None, 400)]        0           []                               \n",
            "                                                                                                  \n",
            " max_pooling2d_4 (MaxPooling2D)  (None, 48, 48, 64)  0           ['batch_normalization_4[0][0]']  \n",
            "                                                                                                  \n",
            " embedding (Embedding)          (None, 400, 400)     40000000    ['input_2[0][0]']                \n",
            "                                                                                                  \n",
            " dropout_4 (Dropout)            (None, 48, 48, 64)   0           ['max_pooling2d_4[0][0]']        \n",
            "                                                                                                  \n",
            " tf.math.reduce_mean (TFOpLambd  (None, 400)         0           ['embedding[0][0]']              \n",
            " a)                                                                                               \n",
            "                                                                                                  \n",
            " flatten_1 (Flatten)            (None, 147456)       0           ['dropout_4[0][0]']              \n",
            "                                                                                                  \n",
            " tf.concat (TFOpLambda)         (None, 147856)       0           ['tf.math.reduce_mean[0][0]',    \n",
            "                                                                  'flatten_1[0][0]']              \n",
            "                                                                                                  \n",
            " price (Dense)                  (None, 3)            443571      ['tf.concat[0][0]']              \n",
            "                                                                                                  \n",
            "==================================================================================================\n",
            "Total params: 40,468,627\n",
            "Trainable params: 40,468,435\n",
            "Non-trainable params: 192\n",
            "__________________________________________________________________________________________________\n",
            "None\n",
            "Epoch 1/30\n",
            "108/367 [=======>......................] - ETA: 7:56 - loss: 0.8631 - sparse_categorical_accuracy: 0.6221"
          ]
        }
      ]
    },
    {
      "cell_type": "code",
      "source": [
        "# display the lass and val_loss from training model \n",
        "plot_graphs(history, \"loss\")\n",
        "# display the price_Accuracy and val_price_Accuracy from training model \n",
        "plot_graphs(history, \"sparse_categorical_accuracy\")"
      ],
      "metadata": {
        "id": "yPoQI9Q4BPSy"
      },
      "execution_count": null,
      "outputs": []
    },
    {
      "cell_type": "code",
      "source": [
        "# we can do prediction on testing set using the predict_save_csv function and it will predict the testing data and save it in the csv file\n",
        "predict_save_csv(model, '_Model_6_651')"
      ],
      "metadata": {
        "id": "6c1MPn-KBSkr"
      },
      "execution_count": null,
      "outputs": []
    },
    {
      "cell_type": "markdown",
      "source": [
        "### **7-Convolutional Layers without Multi-modality**"
      ],
      "metadata": {
        "id": "hn8VxwDyAXBf"
      }
    },
    {
      "cell_type": "code",
      "execution_count": 34,
      "metadata": {
        "id": "VS1bfypXUWZo",
        "colab": {
          "base_uri": "https://localhost:8080/"
        },
        "outputId": "b519a2db-c28e-4bfc-fb26-f53ece06e2cf"
      },
      "outputs": [
        {
          "output_type": "stream",
          "name": "stdout",
          "text": [
            "Model: \"model\"\n",
            "__________________________________________________________________________________________________\n",
            " Layer (type)                   Output Shape         Param #     Connected to                     \n",
            "==================================================================================================\n",
            " input_1 (InputLayer)           [(None, 64, 64, 2)]  0           []                               \n",
            "                                                                                                  \n",
            " conv2d (Conv2D)                (None, 64, 64, 32)   608         ['input_1[0][0]']                \n",
            "                                                                                                  \n",
            " batch_normalization (BatchNorm  (None, 64, 64, 32)  128         ['conv2d[0][0]']                 \n",
            " alization)                                                                                       \n",
            "                                                                                                  \n",
            " max_pooling2d (MaxPooling2D)   (None, 62, 62, 32)   0           ['batch_normalization[0][0]']    \n",
            "                                                                                                  \n",
            " dropout (Dropout)              (None, 62, 62, 32)   0           ['max_pooling2d[0][0]']          \n",
            "                                                                                                  \n",
            " conv2d_1 (Conv2D)              (None, 62, 62, 64)   51264       ['dropout[0][0]']                \n",
            "                                                                                                  \n",
            " batch_normalization_1 (BatchNo  (None, 62, 62, 64)  256         ['conv2d_1[0][0]']               \n",
            " rmalization)                                                                                     \n",
            "                                                                                                  \n",
            " max_pooling2d_1 (MaxPooling2D)  (None, 58, 58, 64)  0           ['batch_normalization_1[0][0]']  \n",
            "                                                                                                  \n",
            " dropout_1 (Dropout)            (None, 58, 58, 64)   0           ['max_pooling2d_1[0][0]']        \n",
            "                                                                                                  \n",
            " conv2d_2 (Conv2D)              (None, 58, 58, 128)  401536      ['dropout_1[0][0]']              \n",
            "                                                                                                  \n",
            " batch_normalization_2 (BatchNo  (None, 58, 58, 128)  512        ['conv2d_2[0][0]']               \n",
            " rmalization)                                                                                     \n",
            "                                                                                                  \n",
            " max_pooling2d_2 (MaxPooling2D)  (None, 52, 52, 128)  0          ['batch_normalization_2[0][0]']  \n",
            "                                                                                                  \n",
            " dropout_2 (Dropout)            (None, 52, 52, 128)  0           ['max_pooling2d_2[0][0]']        \n",
            "                                                                                                  \n",
            " flatten (Flatten)              (None, 346112)       0           ['dropout_2[0][0]']              \n",
            "                                                                                                  \n",
            " price (Dense)                  (None, 3)            1038339     ['flatten[0][0]']                \n",
            "                                                                                                  \n",
            " type (Dense)                   (None, 24)           8306712     ['flatten[0][0]']                \n",
            "                                                                                                  \n",
            "==================================================================================================\n",
            "Total params: 9,799,355\n",
            "Trainable params: 9,798,907\n",
            "Non-trainable params: 448\n",
            "__________________________________________________________________________________________________\n",
            "None\n",
            "Epoch 1/25\n",
            "367/367 [==============================] - 1482s 4s/step - loss: 0.9713 - price_loss: 0.8610 - type_loss: 1.0816 - price_sparse_categorical_accuracy: 0.6118 - type_sparse_categorical_accuracy: 0.7543 - val_loss: 0.9491 - val_price_loss: 0.8581 - val_type_loss: 1.0400 - val_price_sparse_categorical_accuracy: 0.6241 - val_type_sparse_categorical_accuracy: 0.7688\n",
            "Epoch 2/25\n",
            "367/367 [==============================] - 1480s 4s/step - loss: 0.9523 - price_loss: 0.8544 - type_loss: 1.0502 - price_sparse_categorical_accuracy: 0.6171 - type_sparse_categorical_accuracy: 0.7560 - val_loss: 0.9097 - val_price_loss: 0.8338 - val_type_loss: 0.9855 - val_price_sparse_categorical_accuracy: 0.6241 - val_type_sparse_categorical_accuracy: 0.7688\n",
            "Epoch 3/25\n",
            "367/367 [==============================] - 1474s 4s/step - loss: 0.9429 - price_loss: 0.8512 - type_loss: 1.0346 - price_sparse_categorical_accuracy: 0.6172 - type_sparse_categorical_accuracy: 0.7560 - val_loss: 0.9147 - val_price_loss: 0.8361 - val_type_loss: 0.9933 - val_price_sparse_categorical_accuracy: 0.6241 - val_type_sparse_categorical_accuracy: 0.7688\n",
            "Epoch 4/25\n",
            "367/367 [==============================] - 1479s 4s/step - loss: 0.9423 - price_loss: 0.8488 - type_loss: 1.0358 - price_sparse_categorical_accuracy: 0.6174 - type_sparse_categorical_accuracy: 0.7560 - val_loss: 0.9145 - val_price_loss: 0.8582 - val_type_loss: 0.9708 - val_price_sparse_categorical_accuracy: 0.6241 - val_type_sparse_categorical_accuracy: 0.7688\n",
            "Epoch 5/25\n",
            "367/367 [==============================] - 1476s 4s/step - loss: 0.9446 - price_loss: 0.8518 - type_loss: 1.0374 - price_sparse_categorical_accuracy: 0.6167 - type_sparse_categorical_accuracy: 0.7560 - val_loss: 0.9585 - val_price_loss: 0.9043 - val_type_loss: 1.0128 - val_price_sparse_categorical_accuracy: 0.6241 - val_type_sparse_categorical_accuracy: 0.7688\n",
            "Epoch 6/25\n",
            "367/367 [==============================] - 1479s 4s/step - loss: 0.9440 - price_loss: 0.8519 - type_loss: 1.0361 - price_sparse_categorical_accuracy: 0.6150 - type_sparse_categorical_accuracy: 0.7560 - val_loss: 0.9979 - val_price_loss: 0.9884 - val_type_loss: 1.0074 - val_price_sparse_categorical_accuracy: 0.3145 - val_type_sparse_categorical_accuracy: 0.7688\n",
            "Epoch 7/25\n",
            "367/367 [==============================] - 1478s 4s/step - loss: 0.9458 - price_loss: 0.8557 - type_loss: 1.0359 - price_sparse_categorical_accuracy: 0.6135 - type_sparse_categorical_accuracy: 0.7560 - val_loss: 0.9759 - val_price_loss: 0.8817 - val_type_loss: 1.0701 - val_price_sparse_categorical_accuracy: 0.6241 - val_type_sparse_categorical_accuracy: 0.7688\n"
          ]
        }
      ],
      "source": [
        "# here we have two inputs. one for image and the other for text.\n",
        "in_image = keras.Input(batch_shape=(None, 64, 64, 2))\n",
        "\n",
        "# image part \n",
        "# simple conv2d. you can change it to anything else as needed\n",
        "cov = Conv2D(32, (3, 3),strides=(1,1), padding='same', activation='relu')(in_image)\n",
        "batch_norm = BatchNormalization()(cov)\n",
        "pl = MaxPool2D((3, 3),strides=(1,1))(batch_norm)\n",
        "\n",
        "dropout1 = Dropout(0.2)(pl)\n",
        "\n",
        "\n",
        "cov = Conv2D(64, (5, 5),strides=(1,1), padding='same', activation='relu')(dropout1)\n",
        "batch_norm = BatchNormalization()(cov)\n",
        "pl = MaxPool2D((5, 5),strides=(1,1))(batch_norm)\n",
        "\n",
        "dropout1 = Dropout(0.2)(pl)\n",
        "\n",
        "\n",
        "cov = Conv2D(128, (7, 7),strides=(1,1), padding='same', activation='relu')(dropout1)\n",
        "batch_norm = BatchNormalization()(cov)\n",
        "\n",
        "pl = MaxPool2D((7, 7),strides=(1,1))(batch_norm)\n",
        "\n",
        "dropout1 = Dropout(0.2)(pl)\n",
        "\n",
        "\n",
        "\n",
        "\n",
        "\n",
        "# cov = Conv2D(512, (, 11),strides=(1,1), padding='same', activation='relu')(dropout1)\n",
        "# batch_norm = BatchNormalization()(cov)\n",
        "\n",
        "# pl = MaxPool2D((2, 2),strides=(1,1))(batch_norm)\n",
        "\n",
        "# dropout1 = Dropout(0.2)(pl)\n",
        "\n",
        "\n",
        "flattened = Flatten()(dropout1)\n",
        "\n",
        "# fusion - combinig both\n",
        "# fused = tf.concat([averaged, flattened], axis=-1)\n",
        "\n",
        "# multi-task learning (each is a multi-class classification)\n",
        "# one dense layer for each task\n",
        "p_type = Dense(len_type, activation='softmax', name='type')(flattened)\n",
        "p_price = Dense(len_price, activation='softmax', name='price')(flattened)\n",
        "\n",
        "\n",
        "# define model input/output using keys.\n",
        "model = keras.Model(\n",
        "    inputs={\n",
        "        # 'summary': in_text,\n",
        "        'image': in_image\n",
        "    },\n",
        "    outputs={\n",
        "        'type': p_type,\n",
        "        'price': p_price,\n",
        "    },\n",
        ")\n",
        "\n",
        "\n",
        "\n",
        "# compile model with optimizer, loss values for each task, loss \n",
        "# weights for each task.\n",
        "model.compile(\n",
        "    optimizer=Nadam(),\n",
        "    loss={\n",
        "        'type': 'sparse_categorical_crossentropy',\n",
        "        'price': 'sparse_categorical_crossentropy',\n",
        "    },\n",
        "    loss_weights={\n",
        "        'type': 0.5,\n",
        "        'price': 0.5,       \n",
        "    },\n",
        "    metrics={\n",
        "        'type': ['SparseCategoricalAccuracy'],\n",
        "        'price': ['SparseCategoricalAccuracy'],\n",
        "    },\n",
        ")\n",
        "\n",
        "# show the summary of the architecture model\n",
        "print(model.summary())\n",
        "\n",
        "\n",
        "\n",
        "# train the model\n",
        "history = model.fit(\n",
        "    x={\n",
        "        # 'summary': x_train_text_id,\n",
        "        'image': x_train_image\n",
        "    },\n",
        "    y={\n",
        "        'type': df_train['type'],\n",
        "        'price': df_train.price\n",
        "    },\n",
        "    epochs=25,\n",
        "    batch_size=16,\n",
        "    validation_split=0.2,\n",
        "    callbacks=[\n",
        "        tf.keras.callbacks.EarlyStopping(monitor='val_price_loss', patience=5, )\n",
        "    ],\n",
        "    verbose=1\n",
        ")"
      ]
    },
    {
      "cell_type": "code",
      "execution_count": 35,
      "metadata": {
        "id": "_0d86oc4UaUo",
        "colab": {
          "base_uri": "https://localhost:8080/",
          "height": 881
        },
        "outputId": "6d0df365-6886-4877-d213-7cdbb4fa30c8"
      },
      "outputs": [
        {
          "output_type": "display_data",
          "data": {
            "text/plain": [
              "<Figure size 640x480 with 1 Axes>"
            ],
            "image/png": "[encoded data removed]"
          },
          "metadata": {}
        },
        {
          "output_type": "display_data",
          "data": {
            "text/plain": [
              "<Figure size 640x480 with 1 Axes>"
            ],
            "image/png": "[encoded data removed]"
          },
          "metadata": {}
        }
      ],
      "source": [
        "\n",
        "# display the lass and val_loss from training model \n",
        "plot_graphs(history, \"loss\")\n",
        "# display the price_Accuracy and val_price_Accuracy from training model \n",
        "plot_graphs(history, \"price_sparse_categorical_accuracy\")"
      ]
    },
    {
      "cell_type": "code",
      "execution_count": 36,
      "metadata": {
        "id": "qcYqLXD1Ud1X",
        "colab": {
          "base_uri": "https://localhost:8080/"
        },
        "outputId": "7540faca-c879-47fd-b21d-8d833cbaf8f9"
      },
      "outputs": [
        {
          "output_type": "stream",
          "name": "stdout",
          "text": [
            "230/230 [==============================] - 356s 2s/step\n"
          ]
        }
      ],
      "source": [
        "# we can do prediction on testing set using the predict_save_csv function and it will predict the testing data and save it in the csv file\n",
        "predict_save_csv(model, '_Model_433333333333_651')"
      ]
    },
    {
      "cell_type": "code",
      "source": [],
      "metadata": {
        "id": "R5Y6mrQgjtj8"
      },
      "execution_count": null,
      "outputs": []
    }
  ],
  "metadata": {
    "colab": {
      "provenance": []
    },
    "kernelspec": {
      "display_name": "Python 3",
      "name": "python3"
    },
    "language_info": {
      "name": "python"
    },
    "widgets": {
      "application/vnd.jupyter.widget-state+json": {
        "32d956073b664659aefe9c9093337725": {
          "model_module": "@jupyter-widgets/controls",
          "model_name": "HBoxModel",
          "model_module_version": "1.5.0",
          "state": {
            "_dom_classes": [],
            "_model_module": "@jupyter-widgets/controls",
            "_model_module_version": "1.5.0",
            "_model_name": "HBoxModel",
            "_view_count": null,
            "_view_module": "@jupyter-widgets/controls",
            "_view_module_version": "1.5.0",
            "_view_name": "HBoxView",
            "box_style": "",
            "children": [
              "IPY_MODEL_bab0c243b2874981a743230086cffc26",
              "IPY_MODEL_e06bb024748f4a06aca277fd8dcb356f",
              "IPY_MODEL_d36518d1479a41b6803f34e75d566d19"
            ],
            "layout": "IPY_MODEL_32e5ec9fffbc4792976898f22ca100f1"
          }
        },
        "bab0c243b2874981a743230086cffc26": {
          "model_module": "@jupyter-widgets/controls",
          "model_name": "HTMLModel",
          "model_module_version": "1.5.0",
          "state": {
            "_dom_classes": [],
            "_model_module": "@jupyter-widgets/controls",
            "_model_module_version": "1.5.0",
            "_model_name": "HTMLModel",
            "_view_count": null,
            "_view_module": "@jupyter-widgets/controls",
            "_view_module_version": "1.5.0",
            "_view_name": "HTMLView",
            "description": "",
            "description_tooltip": null,
            "layout": "IPY_MODEL_d4bb8534662f46e5878221e121c18cc8",
            "placeholder": "​",
            "style": "IPY_MODEL_bd4f2cbac1284ee198ec0e8a92b0ac74",
            "value": "100%"
          }
        },
        "e06bb024748f4a06aca277fd8dcb356f": {
          "model_module": "@jupyter-widgets/controls",
          "model_name": "FloatProgressModel",
          "model_module_version": "1.5.0",
          "state": {
            "_dom_classes": [],
            "_model_module": "@jupyter-widgets/controls",
            "_model_module_version": "1.5.0",
            "_model_name": "FloatProgressModel",
            "_view_count": null,
            "_view_module": "@jupyter-widgets/controls",
            "_view_module_version": "1.5.0",
            "_view_name": "ProgressView",
            "bar_style": "success",
            "description": "",
            "description_tooltip": null,
            "layout": "IPY_MODEL_fd8cddcca028400b892093d7f3432e16",
            "max": 7326,
            "min": 0,
            "orientation": "horizontal",
            "style": "IPY_MODEL_28b052cf51174b86bd607aaceb21a5f5",
            "value": 7326
          }
        },
        "d36518d1479a41b6803f34e75d566d19": {
          "model_module": "@jupyter-widgets/controls",
          "model_name": "HTMLModel",
          "model_module_version": "1.5.0",
          "state": {
            "_dom_classes": [],
            "_model_module": "@jupyter-widgets/controls",
            "_model_module_version": "1.5.0",
            "_model_name": "HTMLModel",
            "_view_count": null,
            "_view_module": "@jupyter-widgets/controls",
            "_view_module_version": "1.5.0",
            "_view_name": "HTMLView",
            "description": "",
            "description_tooltip": null,
            "layout": "IPY_MODEL_d6d88add2a7f4e98875cf68b38ec2836",
            "placeholder": "​",
            "style": "IPY_MODEL_e39690023fd0460e850f10c4a0e6126d",
            "value": " 7326/7326 [00:00&lt;00:00, 14170.86it/s]"
          }
        },
        "32e5ec9fffbc4792976898f22ca100f1": {
          "model_module": "@jupyter-widgets/base",
          "model_name": "LayoutModel",
          "model_module_version": "1.2.0",
          "state": {
            "_model_module": "@jupyter-widgets/base",
            "_model_module_version": "1.2.0",
            "_model_name": "LayoutModel",
            "_view_count": null,
            "_view_module": "@jupyter-widgets/base",
            "_view_module_version": "1.2.0",
            "_view_name": "LayoutView",
            "align_content": null,
            "align_items": null,
            "align_self": null,
            "border": null,
            "bottom": null,
            "display": null,
            "flex": null,
            "flex_flow": null,
            "grid_area": null,
            "grid_auto_columns": null,
            "grid_auto_flow": null,
            "grid_auto_rows": null,
            "grid_column": null,
            "grid_gap": null,
            "grid_row": null,
            "grid_template_areas": null,
            "grid_template_columns": null,
            "grid_template_rows": null,
            "height": null,
            "justify_content": null,
            "justify_items": null,
            "left": null,
            "margin": null,
            "max_height": null,
            "max_width": null,
            "min_height": null,
            "min_width": null,
            "object_fit": null,
            "object_position": null,
            "order": null,
            "overflow": null,
            "overflow_x": null,
            "overflow_y": null,
            "padding": null,
            "right": null,
            "top": null,
            "visibility": null,
            "width": null
          }
        },
        "d4bb8534662f46e5878221e121c18cc8": {
          "model_module": "@jupyter-widgets/base",
          "model_name": "LayoutModel",
          "model_module_version": "1.2.0",
          "state": {
            "_model_module": "@jupyter-widgets/base",
            "_model_module_version": "1.2.0",
            "_model_name": "LayoutModel",
            "_view_count": null,
            "_view_module": "@jupyter-widgets/base",
            "_view_module_version": "1.2.0",
            "_view_name": "LayoutView",
            "align_content": null,
            "align_items": null,
            "align_self": null,
            "border": null,
            "bottom": null,
            "display": null,
            "flex": null,
            "flex_flow": null,
            "grid_area": null,
            "grid_auto_columns": null,
            "grid_auto_flow": null,
            "grid_auto_rows": null,
            "grid_column": null,
            "grid_gap": null,
            "grid_row": null,
            "grid_template_areas": null,
            "grid_template_columns": null,
            "grid_template_rows": null,
            "height": null,
            "justify_content": null,
            "justify_items": null,
            "left": null,
            "margin": null,
            "max_height": null,
            "max_width": null,
            "min_height": null,
            "min_width": null,
            "object_fit": null,
            "object_position": null,
            "order": null,
            "overflow": null,
            "overflow_x": null,
            "overflow_y": null,
            "padding": null,
            "right": null,
            "top": null,
            "visibility": null,
            "width": null
          }
        },
        "bd4f2cbac1284ee198ec0e8a92b0ac74": {
          "model_module": "@jupyter-widgets/controls",
          "model_name": "DescriptionStyleModel",
          "model_module_version": "1.5.0",
          "state": {
            "_model_module": "@jupyter-widgets/controls",
            "_model_module_version": "1.5.0",
            "_model_name": "DescriptionStyleModel",
            "_view_count": null,
            "_view_module": "@jupyter-widgets/base",
            "_view_module_version": "1.2.0",
            "_view_name": "StyleView",
            "description_width": ""
          }
        },
        "fd8cddcca028400b892093d7f3432e16": {
          "model_module": "@jupyter-widgets/base",
          "model_name": "LayoutModel",
          "model_module_version": "1.2.0",
          "state": {
            "_model_module": "@jupyter-widgets/base",
            "_model_module_version": "1.2.0",
            "_model_name": "LayoutModel",
            "_view_count": null,
            "_view_module": "@jupyter-widgets/base",
            "_view_module_version": "1.2.0",
            "_view_name": "LayoutView",
            "align_content": null,
            "align_items": null,
            "align_self": null,
            "border": null,
            "bottom": null,
            "display": null,
            "flex": null,
            "flex_flow": null,
            "grid_area": null,
            "grid_auto_columns": null,
            "grid_auto_flow": null,
            "grid_auto_rows": null,
            "grid_column": null,
            "grid_gap": null,
            "grid_row": null,
            "grid_template_areas": null,
            "grid_template_columns": null,
            "grid_template_rows": null,
            "height": null,
            "justify_content": null,
            "justify_items": null,
            "left": null,
            "margin": null,
            "max_height": null,
            "max_width": null,
            "min_height": null,
            "min_width": null,
            "object_fit": null,
            "object_position": null,
            "order": null,
            "overflow": null,
            "overflow_x": null,
            "overflow_y": null,
            "padding": null,
            "right": null,
            "top": null,
            "visibility": null,
            "width": null
          }
        },
        "28b052cf51174b86bd607aaceb21a5f5": {
          "model_module": "@jupyter-widgets/controls",
          "model_name": "ProgressStyleModel",
          "model_module_version": "1.5.0",
          "state": {
            "_model_module": "@jupyter-widgets/controls",
            "_model_module_version": "1.5.0",
            "_model_name": "ProgressStyleModel",
            "_view_count": null,
            "_view_module": "@jupyter-widgets/base",
            "_view_module_version": "1.2.0",
            "_view_name": "StyleView",
            "bar_color": null,
            "description_width": ""
          }
        },
        "d6d88add2a7f4e98875cf68b38ec2836": {
          "model_module": "@jupyter-widgets/base",
          "model_name": "LayoutModel",
          "model_module_version": "1.2.0",
          "state": {
            "_model_module": "@jupyter-widgets/base",
            "_model_module_version": "1.2.0",
            "_model_name": "LayoutModel",
            "_view_count": null,
            "_view_module": "@jupyter-widgets/base",
            "_view_module_version": "1.2.0",
            "_view_name": "LayoutView",
            "align_content": null,
            "align_items": null,
            "align_self": null,
            "border": null,
            "bottom": null,
            "display": null,
            "flex": null,
            "flex_flow": null,
            "grid_area": null,
            "grid_auto_columns": null,
            "grid_auto_flow": null,
            "grid_auto_rows": null,
            "grid_column": null,
            "grid_gap": null,
            "grid_row": null,
            "grid_template_areas": null,
            "grid_template_columns": null,
            "grid_template_rows": null,
            "height": null,
            "justify_content": null,
            "justify_items": null,
            "left": null,
            "margin": null,
            "max_height": null,
            "max_width": null,
            "min_height": null,
            "min_width": null,
            "object_fit": null,
            "object_position": null,
            "order": null,
            "overflow": null,
            "overflow_x": null,
            "overflow_y": null,
            "padding": null,
            "right": null,
            "top": null,
            "visibility": null,
            "width": null
          }
        },
        "e39690023fd0460e850f10c4a0e6126d": {
          "model_module": "@jupyter-widgets/controls",
          "model_name": "DescriptionStyleModel",
          "model_module_version": "1.5.0",
          "state": {
            "_model_module": "@jupyter-widgets/controls",
            "_model_module_version": "1.5.0",
            "_model_name": "DescriptionStyleModel",
            "_view_count": null,
            "_view_module": "@jupyter-widgets/base",
            "_view_module_version": "1.2.0",
            "_view_name": "StyleView",
            "description_width": ""
          }
        },
        "9d20da59098e44188158e72828899262": {
          "model_module": "@jupyter-widgets/controls",
          "model_name": "HBoxModel",
          "model_module_version": "1.5.0",
          "state": {
            "_dom_classes": [],
            "_model_module": "@jupyter-widgets/controls",
            "_model_module_version": "1.5.0",
            "_model_name": "HBoxModel",
            "_view_count": null,
            "_view_module": "@jupyter-widgets/controls",
            "_view_module_version": "1.5.0",
            "_view_name": "HBoxView",
            "box_style": "",
            "children": [
              "IPY_MODEL_fe4e2618e1794a6cbe017275908ce5cd",
              "IPY_MODEL_7ebfe345e8854c0c808226328ed663f0",
              "IPY_MODEL_8547543a423a415793c6c0a3e02511d1"
            ],
            "layout": "IPY_MODEL_9eaec716d4814a0c8e035c66c412f35c"
          }
        },
        "fe4e2618e1794a6cbe017275908ce5cd": {
          "model_module": "@jupyter-widgets/controls",
          "model_name": "HTMLModel",
          "model_module_version": "1.5.0",
          "state": {
            "_dom_classes": [],
            "_model_module": "@jupyter-widgets/controls",
            "_model_module_version": "1.5.0",
            "_model_name": "HTMLModel",
            "_view_count": null,
            "_view_module": "@jupyter-widgets/controls",
            "_view_module_version": "1.5.0",
            "_view_name": "HTMLView",
            "description": "",
            "description_tooltip": null,
            "layout": "IPY_MODEL_783b5dc59acd4d1089bc74798bb3f48a",
            "placeholder": "​",
            "style": "IPY_MODEL_52d0693410454a42b4928025f1b8eb95",
            "value": "100%"
          }
        },
        "7ebfe345e8854c0c808226328ed663f0": {
          "model_module": "@jupyter-widgets/controls",
          "model_name": "FloatProgressModel",
          "model_module_version": "1.5.0",
          "state": {
            "_dom_classes": [],
            "_model_module": "@jupyter-widgets/controls",
            "_model_module_version": "1.5.0",
            "_model_name": "FloatProgressModel",
            "_view_count": null,
            "_view_module": "@jupyter-widgets/controls",
            "_view_module_version": "1.5.0",
            "_view_name": "ProgressView",
            "bar_style": "success",
            "description": "",
            "description_tooltip": null,
            "layout": "IPY_MODEL_a2cf0c52f67f44188b7ebfcab6831fe8",
            "max": 7360,
            "min": 0,
            "orientation": "horizontal",
            "style": "IPY_MODEL_51646633994243818cbd23372e0e61f6",
            "value": 7360
          }
        },
        "8547543a423a415793c6c0a3e02511d1": {
          "model_module": "@jupyter-widgets/controls",
          "model_name": "HTMLModel",
          "model_module_version": "1.5.0",
          "state": {
            "_dom_classes": [],
            "_model_module": "@jupyter-widgets/controls",
            "_model_module_version": "1.5.0",
            "_model_name": "HTMLModel",
            "_view_count": null,
            "_view_module": "@jupyter-widgets/controls",
            "_view_module_version": "1.5.0",
            "_view_name": "HTMLView",
            "description": "",
            "description_tooltip": null,
            "layout": "IPY_MODEL_17e1b50d79fd40adb14a530e8faf19aa",
            "placeholder": "​",
            "style": "IPY_MODEL_efffa261dc0342289d585d3de1be0c1b",
            "value": " 7360/7360 [00:00&lt;00:00, 34042.07it/s]"
          }
        },
        "9eaec716d4814a0c8e035c66c412f35c": {
          "model_module": "@jupyter-widgets/base",
          "model_name": "LayoutModel",
          "model_module_version": "1.2.0",
          "state": {
            "_model_module": "@jupyter-widgets/base",
            "_model_module_version": "1.2.0",
            "_model_name": "LayoutModel",
            "_view_count": null,
            "_view_module": "@jupyter-widgets/base",
            "_view_module_version": "1.2.0",
            "_view_name": "LayoutView",
            "align_content": null,
            "align_items": null,
            "align_self": null,
            "border": null,
            "bottom": null,
            "display": null,
            "flex": null,
            "flex_flow": null,
            "grid_area": null,
            "grid_auto_columns": null,
            "grid_auto_flow": null,
            "grid_auto_rows": null,
            "grid_column": null,
            "grid_gap": null,
            "grid_row": null,
            "grid_template_areas": null,
            "grid_template_columns": null,
            "grid_template_rows": null,
            "height": null,
            "justify_content": null,
            "justify_items": null,
            "left": null,
            "margin": null,
            "max_height": null,
            "max_width": null,
            "min_height": null,
            "min_width": null,
            "object_fit": null,
            "object_position": null,
            "order": null,
            "overflow": null,
            "overflow_x": null,
            "overflow_y": null,
            "padding": null,
            "right": null,
            "top": null,
            "visibility": null,
            "width": null
          }
        },
        "783b5dc59acd4d1089bc74798bb3f48a": {
          "model_module": "@jupyter-widgets/base",
          "model_name": "LayoutModel",
          "model_module_version": "1.2.0",
          "state": {
            "_model_module": "@jupyter-widgets/base",
            "_model_module_version": "1.2.0",
            "_model_name": "LayoutModel",
            "_view_count": null,
            "_view_module": "@jupyter-widgets/base",
            "_view_module_version": "1.2.0",
            "_view_name": "LayoutView",
            "align_content": null,
            "align_items": null,
            "align_self": null,
            "border": null,
            "bottom": null,
            "display": null,
            "flex": null,
            "flex_flow": null,
            "grid_area": null,
            "grid_auto_columns": null,
            "grid_auto_flow": null,
            "grid_auto_rows": null,
            "grid_column": null,
            "grid_gap": null,
            "grid_row": null,
            "grid_template_areas": null,
            "grid_template_columns": null,
            "grid_template_rows": null,
            "height": null,
            "justify_content": null,
            "justify_items": null,
            "left": null,
            "margin": null,
            "max_height": null,
            "max_width": null,
            "min_height": null,
            "min_width": null,
            "object_fit": null,
            "object_position": null,
            "order": null,
            "overflow": null,
            "overflow_x": null,
            "overflow_y": null,
            "padding": null,
            "right": null,
            "top": null,
            "visibility": null,
            "width": null
          }
        },
        "52d0693410454a42b4928025f1b8eb95": {
          "model_module": "@jupyter-widgets/controls",
          "model_name": "DescriptionStyleModel",
          "model_module_version": "1.5.0",
          "state": {
            "_model_module": "@jupyter-widgets/controls",
            "_model_module_version": "1.5.0",
            "_model_name": "DescriptionStyleModel",
            "_view_count": null,
            "_view_module": "@jupyter-widgets/base",
            "_view_module_version": "1.2.0",
            "_view_name": "StyleView",
            "description_width": ""
          }
        },
        "a2cf0c52f67f44188b7ebfcab6831fe8": {
          "model_module": "@jupyter-widgets/base",
          "model_name": "LayoutModel",
          "model_module_version": "1.2.0",
          "state": {
            "_model_module": "@jupyter-widgets/base",
            "_model_module_version": "1.2.0",
            "_model_name": "LayoutModel",
            "_view_count": null,
            "_view_module": "@jupyter-widgets/base",
            "_view_module_version": "1.2.0",
            "_view_name": "LayoutView",
            "align_content": null,
            "align_items": null,
            "align_self": null,
            "border": null,
            "bottom": null,
            "display": null,
            "flex": null,
            "flex_flow": null,
            "grid_area": null,
            "grid_auto_columns": null,
            "grid_auto_flow": null,
            "grid_auto_rows": null,
            "grid_column": null,
            "grid_gap": null,
            "grid_row": null,
            "grid_template_areas": null,
            "grid_template_columns": null,
            "grid_template_rows": null,
            "height": null,
            "justify_content": null,
            "justify_items": null,
            "left": null,
            "margin": null,
            "max_height": null,
            "max_width": null,
            "min_height": null,
            "min_width": null,
            "object_fit": null,
            "object_position": null,
            "order": null,
            "overflow": null,
            "overflow_x": null,
            "overflow_y": null,
            "padding": null,
            "right": null,
            "top": null,
            "visibility": null,
            "width": null
          }
        },
        "51646633994243818cbd23372e0e61f6": {
          "model_module": "@jupyter-widgets/controls",
          "model_name": "ProgressStyleModel",
          "model_module_version": "1.5.0",
          "state": {
            "_model_module": "@jupyter-widgets/controls",
            "_model_module_version": "1.5.0",
            "_model_name": "ProgressStyleModel",
            "_view_count": null,
            "_view_module": "@jupyter-widgets/base",
            "_view_module_version": "1.2.0",
            "_view_name": "StyleView",
            "bar_color": null,
            "description_width": ""
          }
        },
        "17e1b50d79fd40adb14a530e8faf19aa": {
          "model_module": "@jupyter-widgets/base",
          "model_name": "LayoutModel",
          "model_module_version": "1.2.0",
          "state": {
            "_model_module": "@jupyter-widgets/base",
            "_model_module_version": "1.2.0",
            "_model_name": "LayoutModel",
            "_view_count": null,
            "_view_module": "@jupyter-widgets/base",
            "_view_module_version": "1.2.0",
            "_view_name": "LayoutView",
            "align_content": null,
            "align_items": null,
            "align_self": null,
            "border": null,
            "bottom": null,
            "display": null,
            "flex": null,
            "flex_flow": null,
            "grid_area": null,
            "grid_auto_columns": null,
            "grid_auto_flow": null,
            "grid_auto_rows": null,
            "grid_column": null,
            "grid_gap": null,
            "grid_row": null,
            "grid_template_areas": null,
            "grid_template_columns": null,
            "grid_template_rows": null,
            "height": null,
            "justify_content": null,
            "justify_items": null,
            "left": null,
            "margin": null,
            "max_height": null,
            "max_width": null,
            "min_height": null,
            "min_width": null,
            "object_fit": null,
            "object_position": null,
            "order": null,
            "overflow": null,
            "overflow_x": null,
            "overflow_y": null,
            "padding": null,
            "right": null,
            "top": null,
            "visibility": null,
            "width": null
          }
        },
        "efffa261dc0342289d585d3de1be0c1b": {
          "model_module": "@jupyter-widgets/controls",
          "model_name": "DescriptionStyleModel",
          "model_module_version": "1.5.0",
          "state": {
            "_model_module": "@jupyter-widgets/controls",
            "_model_module_version": "1.5.0",
            "_model_name": "DescriptionStyleModel",
            "_view_count": null,
            "_view_module": "@jupyter-widgets/base",
            "_view_module_version": "1.2.0",
            "_view_name": "StyleView",
            "description_width": ""
          }
        }
      }
    }
  },
  "nbformat": 4,
  "nbformat_minor": 0
}